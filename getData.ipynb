{
 "metadata": {
  "language_info": {
   "codemirror_mode": {
    "name": "ipython",
    "version": 3
   },
   "file_extension": ".py",
   "mimetype": "text/x-python",
   "name": "python",
   "nbconvert_exporter": "python",
   "pygments_lexer": "ipython3",
   "version": "3.8.3-final"
  },
  "orig_nbformat": 2,
  "kernelspec": {
   "name": "python3",
   "display_name": "Python 3",
   "language": "python"
  }
 },
 "nbformat": 4,
 "nbformat_minor": 2,
 "cells": [
  {
   "cell_type": "code",
   "execution_count": 1,
   "metadata": {},
   "outputs": [],
   "source": [
    "import pandas as pd \n",
    "import numpy as np\n",
    "import matplotlib.pyplot as plt\n",
    "plt.style.use('seaborn')\n",
    "from datetime import datetime\n",
    "import json\n",
    "import requests\n",
    "from github import Github"
   ]
  },
  {
   "cell_type": "code",
   "execution_count": 2,
   "metadata": {},
   "outputs": [],
   "source": [
    "def toUnixTime(date, format):\n",
    "    t2 = datetime.strptime(date, format)\n",
    "    t1 = datetime(1970, 1, 1)\n",
    "    ans = (t2 - t1).total_seconds()*1000\n",
    "    ans = int(ans)\n",
    "    return ans"
   ]
  },
  {
   "cell_type": "code",
   "execution_count": 3,
   "metadata": {},
   "outputs": [],
   "source": [
    "sources = {}\n",
    "data = {}"
   ]
  },
  {
   "cell_type": "code",
   "execution_count": 4,
   "metadata": {},
   "outputs": [],
   "source": [
    "url = lambda metric: f'https://raw.githubusercontent.com/CSSEGISandData/COVID-19/master/csse_covid_19_data/csse_covid_19_time_series/time_series_covid19_{metric}_global.csv' \n",
    "metrics = ['confirmed', 'recovered', 'deaths'] \n",
    "for metric in metrics: sources[metric] = url(metric)\n",
    "time_series = {metric: pd.read_csv(sources[metric]) for metric in metrics}\n",
    "\n",
    "for metric in time_series:\n",
    "    df = time_series[metric]\n",
    "    gb = df.groupby('Country/Region')\n",
    "    df = gb.sum()\n",
    "    df = df.loc[:,'1/22/20':] \n",
    "    time_series[metric] = df\n",
    "\n",
    "metrics.append('infected')\n",
    "time_series['infected'] = time_series['confirmed']-time_series['recovered']-time_series['deaths']"
   ]
  },
  {
   "cell_type": "code",
   "execution_count": 5,
   "metadata": {},
   "outputs": [],
   "source": [
    "# time_series['infected'] = time_series['confirmed']-time_series['recovered']-time_series['deaths']\n",
    "\n",
    "# for metric in time_series:\n",
    "#     time_series[metric].loc['World'] = time_series[metric].sum()\n",
    "\n",
    "# for metric in metrics:\n",
    "#     time_series[f'daily_{metric}'] = time_series[metric].diff(axis=1)\n",
    "#     time_series[f'7MA_daily_{metric}'] = time_series[f'daily_{metric}'].rolling(window=7, axis=1).mean()"
   ]
  },
  {
   "cell_type": "code",
   "execution_count": 6,
   "metadata": {},
   "outputs": [],
   "source": [
    "sources['iso'] = 'https://raw.githubusercontent.com/lukes/ISO-3166-Countries-with-Regional-Codes/master/all/all.csv'\n",
    "iso_df = pd.read_csv(sources['iso'], index_col='name')\n",
    "rename = {\n",
    "    \"Bolivia (Plurinational State of)\": \"Bolivia\",\n",
    "    \"Brunei Darussalam\": \"Brunei\",\n",
    "    \"Côte d'Ivoire\": \"Cote d'Ivoire\",\n",
    "    \"Iran (Islamic Republic of)\": \"Iran\",\n",
    "    \"Korea, Republic of\": \"Korea, South\",\n",
    "    \"Taiwan, Province of China\": \"Taiwan*\",\n",
    "    \"United States of America\": \"US\",\n",
    "    \"Russian Federation\":\"Russia\",\n",
    "    \"Venezuela (Bolivarian Republic of)\": \"Venezuela\",\n",
    "    \"United Kingdom of Great Britain and Northern Ireland\": \"United Kingdom\",\n",
    "    \"Moldova, Republic of\": \"Moldova\",\n",
    "    \"Viet Nam\": \"Vietnam\",\n",
    "    \"Tanzania, United Republic of\": \"Tanzania\",\n",
    "    \"Palestine, State of\": \"West Bank and Gaza\",\n",
    "    \"Syrian Arab Republic\": \"Syria\",\n",
    "    \"Lao People's Democratic Republic\": \"Laos\",\n",
    "    \"Myanmar\":\"Burma\",\n",
    "    \"Congo, Democratic Republic of the\": \"Congo (Kinshasa)\",\n",
    "    \"Congo\": \"Congo (Brazzaville)\"\n",
    "}\n",
    "iso_df.rename(index=rename, inplace=True)\n",
    "iso_df.loc['Kosovo'] = 'XK'\n",
    "iso_df.loc['Namibia'] = 'NA'\n",
    "iso_df.loc['World'] = 'WD'"
   ]
  },
  {
   "cell_type": "code",
   "execution_count": 7,
   "metadata": {},
   "outputs": [],
   "source": [
    "sources['vaccines'] = 'https://raw.githubusercontent.com/owid/covid-19-data/master/public/data/vaccinations/vaccinations.csv'\n",
    "df = pd.read_csv(sources['vaccines'])\n",
    "replace = {'United States': 'US'}\n",
    "df['location'].replace(replace, inplace=True)\n",
    "df['date'] = df['date'].apply(lambda date: datetime.strptime(date, '%Y-%m-%d').strftime('%#m/%#d/%y')) \n",
    "vaccines_df = pd.DataFrame(index=time_series['confirmed'].index, columns=time_series['confirmed'].columns)\n",
    "\n",
    "for country in iso_df.index:\n",
    "    try:\n",
    "        tmp_df = df[df['location'] == country]\n",
    "        tmp_df.set_index('date', inplace=True)\n",
    "        vaccines_df.loc[country] = tmp_df['total_vaccinations']\n",
    "    except: continue\n",
    "\n",
    "vaccines_df = vaccines_df.iloc[:,:-1]\n",
    "vaccines_df.fillna(method='ffill', inplace=True, axis=1)\n",
    "vaccines_df.fillna(value=0, inplace=True)\n",
    "time_series['vaccines'] = vaccines_df"
   ]
  },
  {
   "cell_type": "code",
   "execution_count": 8,
   "metadata": {},
   "outputs": [],
   "source": [
    "for metric in metrics: \n",
    "    time_series[metric].loc['World'] = time_series[metric].sum()\n",
    "\n",
    "metrics.append(\"vaccines\")\n",
    "for metric in metrics:\n",
    "    time_series[f'daily_{metric}'] = time_series[metric].diff(axis=1)\n",
    "    time_series[f'7MA_daily_{metric}'] = time_series[f'daily_{metric}'].rolling(window=7, axis=1).mean()"
   ]
  },
  {
   "cell_type": "code",
   "execution_count": 9,
   "metadata": {},
   "outputs": [],
   "source": [
    "general_df = pd.DataFrame(index=time_series['confirmed'].index)\n",
    "\n",
    "for metric in metrics:\n",
    "    general_df[metric] = time_series[metric].iloc[:,-1]\n",
    "    general_df[f'daily_{metric}'] = time_series[f'daily_{metric}'].iloc[:,-1]\n",
    "\n",
    "# general_df.fillna(value=0, inplace=True)\n",
    "general_df = general_df.astype(int)\n",
    "general_df.sort_values('confirmed', ascending=False, inplace=True) \n",
    "general_df = general_df.applymap(lambda x: '{:,}'.format(x))"
   ]
  },
  {
   "cell_type": "code",
   "execution_count": 10,
   "metadata": {},
   "outputs": [],
   "source": [
    "general_df['country'] = general_df.index\n",
    "general_df['iso'] = iso_df['alpha-2']\n",
    "general_df['region'] = iso_df['region']\n",
    "general_df['last_update'] = str(datetime.utcnow())[:-7]"
   ]
  },
  {
   "cell_type": "code",
   "execution_count": 11,
   "metadata": {},
   "outputs": [
    {
     "output_type": "execute_result",
     "data": {
      "text/plain": [
       "                    1/22/20  1/23/20  1/24/20  1/25/20  1/26/20  1/27/20  \\\n",
       "Country/Region                                                             \n",
       "Afghanistan               0        0        0        0        0        0   \n",
       "Albania                   0        0        0        0        0        0   \n",
       "Algeria                   0        0        0        0        0        0   \n",
       "Andorra                   0        0        0        0        0        0   \n",
       "Angola                    0        0        0        0        0        0   \n",
       "...                     ...      ...      ...      ...      ...      ...   \n",
       "West Bank and Gaza        0        0        0        0        0        0   \n",
       "Yemen                     0        0        0        0        0        0   \n",
       "Zambia                    0        0        0        0        0        0   \n",
       "Zimbabwe                  0        0        0        0        0        0   \n",
       "World                   557      655      941     1433     2118     2927   \n",
       "\n",
       "                    1/28/20  1/29/20  1/30/20  1/31/20  ...     2/4/21  \\\n",
       "Country/Region                                          ...              \n",
       "Afghanistan               0        0        0        0  ...      55231   \n",
       "Albania                   0        0        0        0  ...      81993   \n",
       "Algeria                   0        0        0        0  ...     108381   \n",
       "Andorra                   0        0        0        0  ...      10137   \n",
       "Angola                    0        0        0        0  ...      19996   \n",
       "...                     ...      ...      ...      ...  ...        ...   \n",
       "West Bank and Gaza        0        0        0        0  ...     161087   \n",
       "Yemen                     0        0        0        0  ...       2122   \n",
       "Zambia                    0        0        0        0  ...      59003   \n",
       "Zimbabwe                  0        0        0        0  ...      34171   \n",
       "World                  5578     6167     8235     9927  ...  104857988   \n",
       "\n",
       "                       2/5/21     2/6/21     2/7/21     2/8/21     2/9/21  \\\n",
       "Country/Region                                                              \n",
       "Afghanistan             55265      55330      55335      55359      55384   \n",
       "Albania                 83082      84212      85336      86289      87528   \n",
       "Algeria                108629     108629     109088     109313     109559   \n",
       "Andorra                 10172      10206      10251      10275      10312   \n",
       "Angola                  20030      20062      20086      20112      20163   \n",
       "...                       ...        ...        ...        ...        ...   \n",
       "West Bank and Gaza     161559     162029     162601     163213     163975   \n",
       "Yemen                    2124       2127       2127       2131       2131   \n",
       "Zambia                  60427      61427      62633      63573      64610   \n",
       "Zimbabwe                34331      34487      34552      34658      34781   \n",
       "World               105392577  105764730  106162536  106478046  106905601   \n",
       "\n",
       "                      2/10/21    2/11/21    2/12/21    2/13/21  \n",
       "Country/Region                                                  \n",
       "Afghanistan             55402      55420      55445      55473  \n",
       "Albania                 88671      89776      90835      91987  \n",
       "Algeria                109782     110049     110303     110513  \n",
       "Andorra                 10352      10391      10427      10463  \n",
       "Angola                  20210      20261      20294      20329  \n",
       "...                       ...        ...        ...        ...  \n",
       "West Bank and Gaza     164736     165535     166200     166800  \n",
       "Yemen                    2133       2134       2136       2136  \n",
       "Zambia                  65573      66598      67681      68454  \n",
       "Zimbabwe                34864      34864      35045      35104  \n",
       "World               107340682  107780490  108188977  108536882  \n",
       "\n",
       "[193 rows x 389 columns]"
      ],
      "text/html": "<div>\n<style scoped>\n    .dataframe tbody tr th:only-of-type {\n        vertical-align: middle;\n    }\n\n    .dataframe tbody tr th {\n        vertical-align: top;\n    }\n\n    .dataframe thead th {\n        text-align: right;\n    }\n</style>\n<table border=\"1\" class=\"dataframe\">\n  <thead>\n    <tr style=\"text-align: right;\">\n      <th></th>\n      <th>1/22/20</th>\n      <th>1/23/20</th>\n      <th>1/24/20</th>\n      <th>1/25/20</th>\n      <th>1/26/20</th>\n      <th>1/27/20</th>\n      <th>1/28/20</th>\n      <th>1/29/20</th>\n      <th>1/30/20</th>\n      <th>1/31/20</th>\n      <th>...</th>\n      <th>2/4/21</th>\n      <th>2/5/21</th>\n      <th>2/6/21</th>\n      <th>2/7/21</th>\n      <th>2/8/21</th>\n      <th>2/9/21</th>\n      <th>2/10/21</th>\n      <th>2/11/21</th>\n      <th>2/12/21</th>\n      <th>2/13/21</th>\n    </tr>\n    <tr>\n      <th>Country/Region</th>\n      <th></th>\n      <th></th>\n      <th></th>\n      <th></th>\n      <th></th>\n      <th></th>\n      <th></th>\n      <th></th>\n      <th></th>\n      <th></th>\n      <th></th>\n      <th></th>\n      <th></th>\n      <th></th>\n      <th></th>\n      <th></th>\n      <th></th>\n      <th></th>\n      <th></th>\n      <th></th>\n      <th></th>\n    </tr>\n  </thead>\n  <tbody>\n    <tr>\n      <th>Afghanistan</th>\n      <td>0</td>\n      <td>0</td>\n      <td>0</td>\n      <td>0</td>\n      <td>0</td>\n      <td>0</td>\n      <td>0</td>\n      <td>0</td>\n      <td>0</td>\n      <td>0</td>\n      <td>...</td>\n      <td>55231</td>\n      <td>55265</td>\n      <td>55330</td>\n      <td>55335</td>\n      <td>55359</td>\n      <td>55384</td>\n      <td>55402</td>\n      <td>55420</td>\n      <td>55445</td>\n      <td>55473</td>\n    </tr>\n    <tr>\n      <th>Albania</th>\n      <td>0</td>\n      <td>0</td>\n      <td>0</td>\n      <td>0</td>\n      <td>0</td>\n      <td>0</td>\n      <td>0</td>\n      <td>0</td>\n      <td>0</td>\n      <td>0</td>\n      <td>...</td>\n      <td>81993</td>\n      <td>83082</td>\n      <td>84212</td>\n      <td>85336</td>\n      <td>86289</td>\n      <td>87528</td>\n      <td>88671</td>\n      <td>89776</td>\n      <td>90835</td>\n      <td>91987</td>\n    </tr>\n    <tr>\n      <th>Algeria</th>\n      <td>0</td>\n      <td>0</td>\n      <td>0</td>\n      <td>0</td>\n      <td>0</td>\n      <td>0</td>\n      <td>0</td>\n      <td>0</td>\n      <td>0</td>\n      <td>0</td>\n      <td>...</td>\n      <td>108381</td>\n      <td>108629</td>\n      <td>108629</td>\n      <td>109088</td>\n      <td>109313</td>\n      <td>109559</td>\n      <td>109782</td>\n      <td>110049</td>\n      <td>110303</td>\n      <td>110513</td>\n    </tr>\n    <tr>\n      <th>Andorra</th>\n      <td>0</td>\n      <td>0</td>\n      <td>0</td>\n      <td>0</td>\n      <td>0</td>\n      <td>0</td>\n      <td>0</td>\n      <td>0</td>\n      <td>0</td>\n      <td>0</td>\n      <td>...</td>\n      <td>10137</td>\n      <td>10172</td>\n      <td>10206</td>\n      <td>10251</td>\n      <td>10275</td>\n      <td>10312</td>\n      <td>10352</td>\n      <td>10391</td>\n      <td>10427</td>\n      <td>10463</td>\n    </tr>\n    <tr>\n      <th>Angola</th>\n      <td>0</td>\n      <td>0</td>\n      <td>0</td>\n      <td>0</td>\n      <td>0</td>\n      <td>0</td>\n      <td>0</td>\n      <td>0</td>\n      <td>0</td>\n      <td>0</td>\n      <td>...</td>\n      <td>19996</td>\n      <td>20030</td>\n      <td>20062</td>\n      <td>20086</td>\n      <td>20112</td>\n      <td>20163</td>\n      <td>20210</td>\n      <td>20261</td>\n      <td>20294</td>\n      <td>20329</td>\n    </tr>\n    <tr>\n      <th>...</th>\n      <td>...</td>\n      <td>...</td>\n      <td>...</td>\n      <td>...</td>\n      <td>...</td>\n      <td>...</td>\n      <td>...</td>\n      <td>...</td>\n      <td>...</td>\n      <td>...</td>\n      <td>...</td>\n      <td>...</td>\n      <td>...</td>\n      <td>...</td>\n      <td>...</td>\n      <td>...</td>\n      <td>...</td>\n      <td>...</td>\n      <td>...</td>\n      <td>...</td>\n      <td>...</td>\n    </tr>\n    <tr>\n      <th>West Bank and Gaza</th>\n      <td>0</td>\n      <td>0</td>\n      <td>0</td>\n      <td>0</td>\n      <td>0</td>\n      <td>0</td>\n      <td>0</td>\n      <td>0</td>\n      <td>0</td>\n      <td>0</td>\n      <td>...</td>\n      <td>161087</td>\n      <td>161559</td>\n      <td>162029</td>\n      <td>162601</td>\n      <td>163213</td>\n      <td>163975</td>\n      <td>164736</td>\n      <td>165535</td>\n      <td>166200</td>\n      <td>166800</td>\n    </tr>\n    <tr>\n      <th>Yemen</th>\n      <td>0</td>\n      <td>0</td>\n      <td>0</td>\n      <td>0</td>\n      <td>0</td>\n      <td>0</td>\n      <td>0</td>\n      <td>0</td>\n      <td>0</td>\n      <td>0</td>\n      <td>...</td>\n      <td>2122</td>\n      <td>2124</td>\n      <td>2127</td>\n      <td>2127</td>\n      <td>2131</td>\n      <td>2131</td>\n      <td>2133</td>\n      <td>2134</td>\n      <td>2136</td>\n      <td>2136</td>\n    </tr>\n    <tr>\n      <th>Zambia</th>\n      <td>0</td>\n      <td>0</td>\n      <td>0</td>\n      <td>0</td>\n      <td>0</td>\n      <td>0</td>\n      <td>0</td>\n      <td>0</td>\n      <td>0</td>\n      <td>0</td>\n      <td>...</td>\n      <td>59003</td>\n      <td>60427</td>\n      <td>61427</td>\n      <td>62633</td>\n      <td>63573</td>\n      <td>64610</td>\n      <td>65573</td>\n      <td>66598</td>\n      <td>67681</td>\n      <td>68454</td>\n    </tr>\n    <tr>\n      <th>Zimbabwe</th>\n      <td>0</td>\n      <td>0</td>\n      <td>0</td>\n      <td>0</td>\n      <td>0</td>\n      <td>0</td>\n      <td>0</td>\n      <td>0</td>\n      <td>0</td>\n      <td>0</td>\n      <td>...</td>\n      <td>34171</td>\n      <td>34331</td>\n      <td>34487</td>\n      <td>34552</td>\n      <td>34658</td>\n      <td>34781</td>\n      <td>34864</td>\n      <td>34864</td>\n      <td>35045</td>\n      <td>35104</td>\n    </tr>\n    <tr>\n      <th>World</th>\n      <td>557</td>\n      <td>655</td>\n      <td>941</td>\n      <td>1433</td>\n      <td>2118</td>\n      <td>2927</td>\n      <td>5578</td>\n      <td>6167</td>\n      <td>8235</td>\n      <td>9927</td>\n      <td>...</td>\n      <td>104857988</td>\n      <td>105392577</td>\n      <td>105764730</td>\n      <td>106162536</td>\n      <td>106478046</td>\n      <td>106905601</td>\n      <td>107340682</td>\n      <td>107780490</td>\n      <td>108188977</td>\n      <td>108536882</td>\n    </tr>\n  </tbody>\n</table>\n<p>193 rows × 389 columns</p>\n</div>"
     },
     "metadata": {},
     "execution_count": 11
    }
   ],
   "source": [
    "time_series['confirmed']"
   ]
  },
  {
   "cell_type": "code",
   "execution_count": 12,
   "metadata": {},
   "outputs": [],
   "source": [
    "no_match = general_df[general_df['iso'].isnull()].index\n",
    "for metric in time_series:\n",
    "    time_series[metric].drop(index=no_match, inplace=True)\n",
    "general_df.drop(index=no_match, inplace=True)"
   ]
  },
  {
   "cell_type": "code",
   "execution_count": 15,
   "metadata": {},
   "outputs": [],
   "source": [
    "class countryData:\n",
    "    def __init__(self, country):\n",
    "        self.general = general_df.loc[country]\n",
    "        self.time_series = {metric: time_series[metric].loc[country] for metric in time_series}\n",
    "        self.preProcessing()\n",
    "    \n",
    "    def preProcessing(self):\n",
    "        def getStart(metric, atleast=1):\n",
    "            s = self.time_series[metric]\n",
    "            tmp_s = s[s > atleast]\n",
    "            if len(tmp_s): start = tmp_s.index[0]\n",
    "            else: start = s.index[0]\n",
    "            if metric == '7MA_daily_confirmed' and start < '1/29/20': start = '1/29/20' \n",
    "            return start\n",
    "        \n",
    "        # start = getStart(metric='7MA_daily_confirmed', atleast=1000)\n",
    "        start = getStart(metric='7MA_daily_confirmed', atleast=100)\n",
    "        self.time_series = {metric: self.time_series[metric][start:] for metric in self.time_series}\n",
    "\n",
    "        start_vaccines = getStart(metric='7MA_daily_vaccines', atleast=1000)\n",
    "        self.time_series['vaccines'] = self.time_series['vaccines'][start_vaccines:]\n",
    "        self.time_series['daily_vaccines'] = self.time_series['daily_vaccines'][start_vaccines:]\n",
    "        self.time_series['7MA_daily_vaccines'] = self.time_series['7MA_daily_vaccines'][start_vaccines:]\n",
    "        # self.time_series['starts'] = start_vaccines\n",
    "        self.time_series['starts'] = {'confirmed':toUnixTime(start, format=\"%m/%d/%y\"),'vaccines': toUnixTime(start_vaccines, format=\"%m/%d/%y\")} \n",
    "\n",
    "    def to_dict(self):\n",
    "        res = {\n",
    "            'general': self.general.to_dict(),\n",
    "            'time_series': {metric: self.time_series[metric].to_list() for metric in self.time_series if metric != 'starts'}\n",
    "        }\n",
    "        res['time_series']['starts'] = self.time_series['starts']\n",
    "        return res"
   ]
  },
  {
   "cell_type": "code",
   "execution_count": 18,
   "metadata": {},
   "outputs": [
    {
     "output_type": "execute_result",
     "data": {
      "text/plain": [
       "{'confirmed': 1602892800000, 'vaccines': 1610928000000}"
      ]
     },
     "metadata": {},
     "execution_count": 18
    }
   ],
   "source": [
    "country_data = countryData('Latvia')\n",
    "country_data.time_series['starts']"
   ]
  },
  {
   "cell_type": "code",
   "execution_count": 16,
   "metadata": {},
   "outputs": [],
   "source": [
    "def genCountryData(country):\n",
    "    data = countryData(country)\n",
    "    return data.to_dict()"
   ]
  },
  {
   "cell_type": "code",
   "execution_count": 17,
   "metadata": {},
   "outputs": [],
   "source": [
    "def manualUpdate():\n",
    "    general_df.to_json('./data/general.json', orient='records')\n",
    "    for country in general_df.index:\n",
    "        country_iso = general_df.loc[country]['iso']\n",
    "        res = genCountryData(country)\n",
    "        with open('./data/time_series/'+country_iso+'.json', 'w') as doc: json.dump(res, doc)"
   ]
  },
  {
   "cell_type": "code",
   "execution_count": 18,
   "metadata": {},
   "outputs": [],
   "source": [
    "def updateData(access_token):\n",
    "    g = Github(access_token)\n",
    "    repo = g.get_user().get_repo(\"CoronaTrack\")\n",
    "    \n",
    "    res = general.to_json(orient='records')\n",
    "    contents = repo.get_contents(f\"data/general.json\")\n",
    "    repo.update_file(contents.path, \"automatic update\", res, contents.sha)\n",
    "    \n",
    "    for country in general_df.index:\n",
    "        country_iso = general_df.loc[country]['iso']\n",
    "        country_data = genCountryData(country)\n",
    "        res = json.dumps(country_data)\n",
    "    \n",
    "        contents = repo.get_contents(f\"data/time_series/{country_iso}.json\")\n",
    "        repo.update_file(contents.path, \"automatic update\", res, contents.sha)\n"
   ]
  },
  {
   "cell_type": "code",
   "execution_count": 19,
   "metadata": {},
   "outputs": [],
   "source": [
    "manualUpdate()"
   ]
  },
  {
   "cell_type": "code",
   "execution_count": null,
   "metadata": {},
   "outputs": [],
   "source": []
  }
 ]
}