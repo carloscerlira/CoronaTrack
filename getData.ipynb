{
 "metadata": {
  "language_info": {
   "codemirror_mode": {
    "name": "ipython",
    "version": 3
   },
   "file_extension": ".py",
   "mimetype": "text/x-python",
   "name": "python",
   "nbconvert_exporter": "python",
   "pygments_lexer": "ipython3",
   "version": "3.8.3-final"
  },
  "orig_nbformat": 2,
  "kernelspec": {
   "name": "python3",
   "display_name": "Python 3",
   "language": "python"
  }
 },
 "nbformat": 4,
 "nbformat_minor": 2,
 "cells": [
  {
   "cell_type": "code",
   "execution_count": 1,
   "metadata": {},
   "outputs": [],
   "source": [
    "import pandas as pd \n",
    "import numpy as np\n",
    "import matplotlib.pyplot as plt\n",
    "plt.style.use('seaborn')\n",
    "from datetime import datetime\n",
    "import json\n",
    "import requests\n",
    "from github import Github"
   ]
  },
  {
   "cell_type": "code",
   "execution_count": 2,
   "metadata": {},
   "outputs": [],
   "source": [
    "def toUnixTime(date, format):\n",
    "    t2 = datetime.strptime(date, format)\n",
    "    t1 = datetime(1970, 1, 1)\n",
    "    ans = (t2 - t1).total_seconds()*1000\n",
    "    ans = int(ans)\n",
    "    return ans"
   ]
  },
  {
   "cell_type": "code",
   "execution_count": 3,
   "metadata": {},
   "outputs": [],
   "source": [
    "sources = {}\n",
    "data = {}"
   ]
  },
  {
   "cell_type": "code",
   "execution_count": 4,
   "metadata": {},
   "outputs": [],
   "source": [
    "url = lambda metric: f'https://raw.githubusercontent.com/CSSEGISandData/COVID-19/master/csse_covid_19_data/csse_covid_19_time_series/time_series_covid19_{metric}_global.csv' \n",
    "metrics = ['confirmed', 'recovered', 'deaths'] \n",
    "for metric in metrics: sources[metric] = url(metric)\n",
    "time_series = {metric: pd.read_csv(sources[metric]) for metric in metrics}\n",
    "\n",
    "for metric in time_series:\n",
    "    df = time_series[metric]\n",
    "    gb = df.groupby('Country/Region')\n",
    "    df = gb.sum()\n",
    "    df = df.loc[:,'1/22/20':] \n",
    "    time_series[metric] = df\n",
    "\n",
    "metrics.append('infected')\n",
    "time_series['infected'] = time_series['confirmed']-time_series['recovered']-time_series['deaths']"
   ]
  },
  {
   "cell_type": "code",
   "execution_count": 5,
   "metadata": {},
   "outputs": [],
   "source": [
    "# time_series['infected'] = time_series['confirmed']-time_series['recovered']-time_series['deaths']\n",
    "\n",
    "# for metric in time_series:\n",
    "#     time_series[metric].loc['World'] = time_series[metric].sum()\n",
    "\n",
    "# for metric in metrics:\n",
    "#     time_series[f'daily_{metric}'] = time_series[metric].diff(axis=1)\n",
    "#     time_series[f'7MA_daily_{metric}'] = time_series[f'daily_{metric}'].rolling(window=7, axis=1).mean()"
   ]
  },
  {
   "cell_type": "code",
   "execution_count": 6,
   "metadata": {},
   "outputs": [],
   "source": [
    "sources['iso'] = 'https://raw.githubusercontent.com/lukes/ISO-3166-Countries-with-Regional-Codes/master/all/all.csv'\n",
    "iso_df = pd.read_csv(sources['iso'], index_col='name')\n",
    "rename = {\n",
    "    \"Bolivia (Plurinational State of)\": \"Bolivia\",\n",
    "    \"Brunei Darussalam\": \"Brunei\",\n",
    "    \"Côte d'Ivoire\": \"Cote d'Ivoire\",\n",
    "    \"Iran (Islamic Republic of)\": \"Iran\",\n",
    "    \"Korea, Republic of\": \"Korea, South\",\n",
    "    \"Taiwan, Province of China\": \"Taiwan*\",\n",
    "    \"United States of America\": \"US\",\n",
    "    \"Russian Federation\":\"Russia\",\n",
    "    \"Venezuela (Bolivarian Republic of)\": \"Venezuela\",\n",
    "    \"United Kingdom of Great Britain and Northern Ireland\": \"United Kingdom\",\n",
    "    \"Moldova, Republic of\": \"Moldova\",\n",
    "    \"Viet Nam\": \"Vietnam\",\n",
    "    \"Tanzania, United Republic of\": \"Tanzania\",\n",
    "    \"Palestine, State of\": \"West Bank and Gaza\",\n",
    "    \"Syrian Arab Republic\": \"Syria\",\n",
    "    \"Lao People's Democratic Republic\": \"Laos\",\n",
    "    \"Myanmar\":\"Burma\",\n",
    "    \"Congo, Democratic Republic of the\": \"Congo (Kinshasa)\",\n",
    "    \"Congo\": \"Congo (Brazzaville)\"\n",
    "}\n",
    "iso_df.rename(index=rename, inplace=True)\n",
    "iso_df.loc['Kosovo'] = 'XK'\n",
    "iso_df.loc['Namibia'] = 'NA'\n",
    "iso_df.loc['World'] = 'WD'"
   ]
  },
  {
   "cell_type": "code",
   "execution_count": 7,
   "metadata": {},
   "outputs": [],
   "source": [
    "sources['vaccines'] = 'https://raw.githubusercontent.com/owid/covid-19-data/master/public/data/vaccinations/vaccinations.csv'\n",
    "df = pd.read_csv(sources['vaccines'])\n",
    "replace = {'United States': 'US'}\n",
    "df['location'].replace(replace, inplace=True)\n",
    "df['date'] = df['date'].apply(lambda date: datetime.strptime(date, '%Y-%m-%d').strftime('%#m/%#d/%y')) \n",
    "vaccines_df = pd.DataFrame(index=time_series['confirmed'].index, columns=time_series['confirmed'].columns)\n",
    "\n",
    "for country in iso_df.index:\n",
    "    try:\n",
    "        tmp_df = df[df['location'] == country]\n",
    "        tmp_df.set_index('date', inplace=True)\n",
    "        vaccines_df.loc[country] = tmp_df['total_vaccinations']\n",
    "    except: continue\n",
    "\n",
    "vaccines_df = vaccines_df.iloc[:,:-1]\n",
    "vaccines_df.fillna(method='ffill', inplace=True, axis=1)\n",
    "vaccines_df.fillna(value=0, inplace=True)\n",
    "time_series['vaccines'] = vaccines_df"
   ]
  },
  {
   "cell_type": "code",
   "execution_count": 8,
   "metadata": {},
   "outputs": [],
   "source": [
    "for metric in metrics: \n",
    "    time_series[metric].loc['World'] = time_series[metric].sum()\n",
    "\n",
    "metrics.append(\"vaccines\")\n",
    "for metric in metrics:\n",
    "    time_series[f'daily_{metric}'] = time_series[metric].diff(axis=1)\n",
    "    time_series[f'7MA_daily_{metric}'] = time_series[f'daily_{metric}'].rolling(window=7, axis=1).mean()"
   ]
  },
  {
   "cell_type": "code",
   "execution_count": 9,
   "metadata": {},
   "outputs": [],
   "source": [
    "general_df = pd.DataFrame(index=time_series['confirmed'].index)\n",
    "\n",
    "for metric in metrics:\n",
    "    general_df[metric] = time_series[metric].iloc[:,-1]\n",
    "    general_df[f'daily_{metric}'] = time_series[f'daily_{metric}'].iloc[:,-1]\n",
    "\n",
    "# general_df.fillna(value=0, inplace=True)\n",
    "general_df = general_df.astype(int)\n",
    "general_df.sort_values('confirmed', ascending=False, inplace=True) \n",
    "general_df = general_df.applymap(lambda x: '{:,}'.format(x))"
   ]
  },
  {
   "cell_type": "code",
   "execution_count": 10,
   "metadata": {},
   "outputs": [],
   "source": [
    "general_df['country'] = general_df.index\n",
    "general_df['iso'] = iso_df['alpha-2']\n",
    "general_df['region'] = iso_df['region']\n",
    "general_df['last_update'] = str(datetime.utcnow())[:-7]"
   ]
  },
  {
   "cell_type": "code",
   "execution_count": 11,
   "metadata": {},
   "outputs": [],
   "source": [
    "no_match = general_df[general_df['iso'].isnull()].index\n",
    "for metric in time_series:\n",
    "    time_series[metric].drop(index=no_match, inplace=True)\n",
    "general_df.drop(index=no_match, inplace=True)"
   ]
  },
  {
   "cell_type": "code",
   "execution_count": 12,
   "metadata": {},
   "outputs": [],
   "source": [
    "class countryData:\n",
    "    def __init__(self, country):\n",
    "        self.general = general_df.loc[country]\n",
    "        self.time_series = {metric: time_series[metric].loc[country] for metric in time_series}\n",
    "        self.preProcessing()\n",
    "    \n",
    "    def preProcessing(self):\n",
    "        def getStart(metric, atleast=1):\n",
    "            s = self.time_series[metric]\n",
    "            try: s = s['3/1/20':]\n",
    "            except: pass \n",
    "            start = s.index[0]\n",
    "            s = s[s > atleast]\n",
    "            if len(s): start = s.index[0]\n",
    "            return start\n",
    "        \n",
    "        start = getStart(metric='confirmed', atleast=100)\n",
    "        self.time_series = {metric: self.time_series[metric][start:] for metric in self.time_series}\n",
    "        start_vaccines = getStart(metric='daily_vaccines', atleast=1000)\n",
    "        self.time_series['vaccines'] = self.time_series['vaccines'][start_vaccines:]\n",
    "        self.time_series['daily_vaccines'] = self.time_series['daily_vaccines'][start_vaccines:]\n",
    "        self.time_series['7MA_daily_vaccines'] = self.time_series['7MA_daily_vaccines'][start_vaccines:]\n",
    "        self.time_series['starts'] = {'vaccines': toUnixTime(start_vaccines, format=\"%m/%d/%y\")} \n",
    "        # self.time_series['starts'] = start_vaccines\n",
    "        self.general['start'] = toUnixTime(start, format=\"%m/%d/%y\")\n",
    "\n",
    "    def to_dict(self):\n",
    "        res = {\n",
    "            'general': self.general.to_dict(),\n",
    "            'time_series': {metric: self.time_series[metric].to_list() for metric in self.time_series if metric != 'starts'}\n",
    "        }\n",
    "        res['time_series']['starts'] = self.time_series['starts']\n",
    "        return res"
   ]
  },
  {
   "cell_type": "code",
   "execution_count": 13,
   "metadata": {},
   "outputs": [
    {
     "output_type": "execute_result",
     "data": {
      "text/plain": [
       "{'vaccines': 1608768000000}"
      ]
     },
     "metadata": {},
     "execution_count": 13
    }
   ],
   "source": [
    "mx_data = countryData('Mexico')\n",
    "mx_data.time_series['starts']"
   ]
  },
  {
   "cell_type": "code",
   "execution_count": 14,
   "metadata": {},
   "outputs": [
    {
     "output_type": "execute_result",
     "data": {
      "text/plain": [
       "1/12/21     6377.571429\n",
       "1/13/21    19911.714286\n",
       "1/14/21    38797.285714\n",
       "1/15/21    49986.714286\n",
       "1/16/21    55493.142857\n",
       "1/17/21    55834.571429\n",
       "1/18/21    57924.142857\n",
       "1/19/21    57891.857143\n",
       "1/20/21    44066.142857\n",
       "1/21/21    31764.571429\n",
       "1/22/21    28204.714286\n",
       "1/23/21    22217.428571\n",
       "1/24/21    22497.714286\n",
       "1/25/21    21796.571429\n",
       "1/26/21    22028.142857\n",
       "1/27/21    22144.857143\n",
       "1/28/21    15072.428571\n",
       "1/29/21     6772.714286\n",
       "1/30/21     7362.714286\n",
       "1/31/21     6243.000000\n",
       "2/1/21      4299.571429\n",
       "2/2/21      3602.857143\n",
       "2/3/21      4365.285714\n",
       "2/4/21      5320.857143\n",
       "2/5/21      5442.714286\n",
       "2/6/21      5698.714286\n",
       "2/7/21      5741.428571\n",
       "2/8/21      6088.285714\n",
       "2/9/21      6686.857143\n",
       "2/10/21     5443.714286\n",
       "Name: Mexico, dtype: float64"
      ]
     },
     "metadata": {},
     "execution_count": 14
    }
   ],
   "source": [
    "mx_data.time_series['7MA_daily_vaccines'][-30:]"
   ]
  },
  {
   "cell_type": "code",
   "execution_count": 15,
   "metadata": {},
   "outputs": [],
   "source": [
    "def genCountryData(country):\n",
    "    data = countryData(country)\n",
    "    return data.to_dict()"
   ]
  },
  {
   "cell_type": "code",
   "execution_count": 16,
   "metadata": {},
   "outputs": [],
   "source": [
    "def manualUpdate():\n",
    "    general_df.to_json('./data/general.json', orient='records')\n",
    "    for country in general_df.index:\n",
    "        country_iso = general_df.loc[country]['iso']\n",
    "        res = genCountryData(country)\n",
    "        with open('./data/time_series/'+country_iso+'.json', 'w') as doc: json.dump(res, doc)"
   ]
  },
  {
   "cell_type": "code",
   "execution_count": 17,
   "metadata": {},
   "outputs": [],
   "source": [
    "def updateData(access_token):\n",
    "    g = Github(access_token)\n",
    "    repo = g.get_user().get_repo(\"CoronaTrack\")\n",
    "    \n",
    "    for country in general_df.index:\n",
    "        country_iso = general_df.loc[country]['iso']\n",
    "        country_data = genCountryData(country)\n",
    "        res = json.dumps(country_data)\n",
    "    \n",
    "        contents = repo.get_contents(f\"data/time_series/{country_iso}.json\")\n",
    "        repo.update_file(contents.path, \"automatic update\", res, contents.sha)\n",
    "\n",
    "    res = general.to_json(orient='records')\n",
    "    contents = repo.get_contents(f\"data/general.json\")\n",
    "    repo.update_file(contents.path, \"automatic update\", res, contents.sha)"
   ]
  },
  {
   "cell_type": "code",
   "execution_count": 18,
   "metadata": {},
   "outputs": [],
   "source": [
    "manualUpdate()"
   ]
  },
  {
   "cell_type": "code",
   "execution_count": null,
   "metadata": {},
   "outputs": [],
   "source": []
  },
  {
   "cell_type": "code",
   "execution_count": null,
   "metadata": {},
   "outputs": [],
   "source": []
  }
 ]
}