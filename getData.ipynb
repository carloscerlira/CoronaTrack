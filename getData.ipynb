{
 "metadata": {
  "language_info": {
   "codemirror_mode": {
    "name": "ipython",
    "version": 3
   },
   "file_extension": ".py",
   "mimetype": "text/x-python",
   "name": "python",
   "nbconvert_exporter": "python",
   "pygments_lexer": "ipython3",
   "version": "3.8.3-final"
  },
  "orig_nbformat": 2,
  "kernelspec": {
   "name": "python3",
   "display_name": "Python 3",
   "language": "python"
  }
 },
 "nbformat": 4,
 "nbformat_minor": 2,
 "cells": [
  {
   "cell_type": "code",
   "execution_count": 1,
   "metadata": {},
   "outputs": [],
   "source": [
    "import pandas as pd \n",
    "import numpy as np\n",
    "import matplotlib.pyplot as plt\n",
    "plt.style.use('seaborn')\n",
    "from datetime import datetime\n",
    "import json\n",
    "import requests\n",
    "from github import Github"
   ]
  },
  {
   "cell_type": "code",
   "execution_count": 2,
   "metadata": {},
   "outputs": [],
   "source": [
    "def toUnixTime(date, format):\n",
    "    t2 = datetime.strptime(date, format)\n",
    "    t1 = datetime(1970, 1, 1)\n",
    "    ans = (t2 - t1).total_seconds()*1000\n",
    "    ans = int(ans)\n",
    "    return ans"
   ]
  },
  {
   "cell_type": "code",
   "execution_count": 3,
   "metadata": {},
   "outputs": [],
   "source": [
    "sources = {}\n",
    "data = {}"
   ]
  },
  {
   "cell_type": "code",
   "execution_count": 4,
   "metadata": {},
   "outputs": [],
   "source": [
    "url = lambda metric: f'https://raw.githubusercontent.com/CSSEGISandData/COVID-19/master/csse_covid_19_data/csse_covid_19_time_series/time_series_covid19_{metric}_global.csv' \n",
    "metrics = ['confirmed', 'recovered', 'deaths'] \n",
    "for metric in metrics: sources[metric] = url(metric)\n",
    "time_series = {metric: pd.read_csv(sources[metric]) for metric in metrics}\n",
    "\n",
    "for metric in time_series:\n",
    "    df = time_series[metric]\n",
    "    gb = df.groupby('Country/Region')\n",
    "    df = gb.sum()\n",
    "    df = df.loc[:,'1/22/20':] \n",
    "    time_series[metric] = df\n",
    "\n",
    "metrics.append('infected')\n",
    "time_series['infected'] = time_series['confirmed']-time_series['recovered']-time_series['deaths']"
   ]
  },
  {
   "cell_type": "code",
   "execution_count": 19,
   "metadata": {},
   "outputs": [
    {
     "output_type": "execute_result",
     "data": {
      "text/plain": [
       "                    1/22/20  1/23/20  1/24/20  1/25/20  1/26/20  1/27/20  \\\n",
       "Country/Region                                                             \n",
       "Afghanistan               0        0        0        0        0        0   \n",
       "Albania                   0        0        0        0        0        0   \n",
       "Algeria                   0        0        0        0        0        0   \n",
       "Andorra                   0        0        0        0        0        0   \n",
       "Angola                    0        0        0        0        0        0   \n",
       "...                     ...      ...      ...      ...      ...      ...   \n",
       "West Bank and Gaza        0        0        0        0        0        0   \n",
       "Yemen                     0        0        0        0        0        0   \n",
       "Zambia                    0        0        0        0        0        0   \n",
       "Zimbabwe                  0        0        0        0        0        0   \n",
       "World                   557      655      941     1433     2118     2927   \n",
       "\n",
       "                    1/28/20  1/29/20  1/30/20  1/31/20  ...     2/2/21  \\\n",
       "Country/Region                                          ...              \n",
       "Afghanistan               0        0        0        0  ...      55121   \n",
       "Albania                   0        0        0        0  ...      79934   \n",
       "Algeria                   0        0        0        0  ...     107841   \n",
       "Andorra                   0        0        0        0  ...      10017   \n",
       "Angola                    0        0        0        0  ...      19900   \n",
       "...                     ...      ...      ...      ...  ...        ...   \n",
       "West Bank and Gaza        0        0        0        0  ...     159956   \n",
       "Yemen                     0        0        0        0  ...       2122   \n",
       "Zambia                    0        0        0        0  ...      56233   \n",
       "Zimbabwe                  0        0        0        0  ...      33814   \n",
       "World                  5578     6167     8235     9927  ...  103869838   \n",
       "\n",
       "                       2/3/21     2/4/21     2/5/21     2/6/21     2/7/21  \\\n",
       "Country/Region                                                              \n",
       "Afghanistan             55174      55231      55265      55330      55335   \n",
       "Albania                 80941      81993      83082      84212      85336   \n",
       "Algeria                108116     108381     108629     108629     109088   \n",
       "Andorra                 10070      10137      10172      10206      10251   \n",
       "Angola                  19937      19996      20030      20062      20086   \n",
       "...                       ...        ...        ...        ...        ...   \n",
       "West Bank and Gaza     160426     161087     161559     162029     162601   \n",
       "Yemen                    2122       2122       2124       2127       2127   \n",
       "Zambia                  57489      59003      60427      61427      62633   \n",
       "Zimbabwe                33964      34171      34331      34487      34552   \n",
       "World               104391868  104857988  105392577  105764730  106162536   \n",
       "\n",
       "                       2/8/21     2/9/21    2/10/21    2/11/21  \n",
       "Country/Region                                                  \n",
       "Afghanistan             55359      55384      55402      55420  \n",
       "Albania                 86289      87528      88671      89776  \n",
       "Algeria                109313     109559     109782     110049  \n",
       "Andorra                 10275      10312      10352      10391  \n",
       "Angola                  20112      20163      20210      20261  \n",
       "...                       ...        ...        ...        ...  \n",
       "West Bank and Gaza     163213     163975     164736     165535  \n",
       "Yemen                    2131       2131       2133       2134  \n",
       "Zambia                  63573      64610      65573      66598  \n",
       "Zimbabwe                34658      34781      34864      34864  \n",
       "World               106478046  106905601  107340682  107780490  \n",
       "\n",
       "[190 rows x 387 columns]"
      ],
      "text/html": "<div>\n<style scoped>\n    .dataframe tbody tr th:only-of-type {\n        vertical-align: middle;\n    }\n\n    .dataframe tbody tr th {\n        vertical-align: top;\n    }\n\n    .dataframe thead th {\n        text-align: right;\n    }\n</style>\n<table border=\"1\" class=\"dataframe\">\n  <thead>\n    <tr style=\"text-align: right;\">\n      <th></th>\n      <th>1/22/20</th>\n      <th>1/23/20</th>\n      <th>1/24/20</th>\n      <th>1/25/20</th>\n      <th>1/26/20</th>\n      <th>1/27/20</th>\n      <th>1/28/20</th>\n      <th>1/29/20</th>\n      <th>1/30/20</th>\n      <th>1/31/20</th>\n      <th>...</th>\n      <th>2/2/21</th>\n      <th>2/3/21</th>\n      <th>2/4/21</th>\n      <th>2/5/21</th>\n      <th>2/6/21</th>\n      <th>2/7/21</th>\n      <th>2/8/21</th>\n      <th>2/9/21</th>\n      <th>2/10/21</th>\n      <th>2/11/21</th>\n    </tr>\n    <tr>\n      <th>Country/Region</th>\n      <th></th>\n      <th></th>\n      <th></th>\n      <th></th>\n      <th></th>\n      <th></th>\n      <th></th>\n      <th></th>\n      <th></th>\n      <th></th>\n      <th></th>\n      <th></th>\n      <th></th>\n      <th></th>\n      <th></th>\n      <th></th>\n      <th></th>\n      <th></th>\n      <th></th>\n      <th></th>\n      <th></th>\n    </tr>\n  </thead>\n  <tbody>\n    <tr>\n      <th>Afghanistan</th>\n      <td>0</td>\n      <td>0</td>\n      <td>0</td>\n      <td>0</td>\n      <td>0</td>\n      <td>0</td>\n      <td>0</td>\n      <td>0</td>\n      <td>0</td>\n      <td>0</td>\n      <td>...</td>\n      <td>55121</td>\n      <td>55174</td>\n      <td>55231</td>\n      <td>55265</td>\n      <td>55330</td>\n      <td>55335</td>\n      <td>55359</td>\n      <td>55384</td>\n      <td>55402</td>\n      <td>55420</td>\n    </tr>\n    <tr>\n      <th>Albania</th>\n      <td>0</td>\n      <td>0</td>\n      <td>0</td>\n      <td>0</td>\n      <td>0</td>\n      <td>0</td>\n      <td>0</td>\n      <td>0</td>\n      <td>0</td>\n      <td>0</td>\n      <td>...</td>\n      <td>79934</td>\n      <td>80941</td>\n      <td>81993</td>\n      <td>83082</td>\n      <td>84212</td>\n      <td>85336</td>\n      <td>86289</td>\n      <td>87528</td>\n      <td>88671</td>\n      <td>89776</td>\n    </tr>\n    <tr>\n      <th>Algeria</th>\n      <td>0</td>\n      <td>0</td>\n      <td>0</td>\n      <td>0</td>\n      <td>0</td>\n      <td>0</td>\n      <td>0</td>\n      <td>0</td>\n      <td>0</td>\n      <td>0</td>\n      <td>...</td>\n      <td>107841</td>\n      <td>108116</td>\n      <td>108381</td>\n      <td>108629</td>\n      <td>108629</td>\n      <td>109088</td>\n      <td>109313</td>\n      <td>109559</td>\n      <td>109782</td>\n      <td>110049</td>\n    </tr>\n    <tr>\n      <th>Andorra</th>\n      <td>0</td>\n      <td>0</td>\n      <td>0</td>\n      <td>0</td>\n      <td>0</td>\n      <td>0</td>\n      <td>0</td>\n      <td>0</td>\n      <td>0</td>\n      <td>0</td>\n      <td>...</td>\n      <td>10017</td>\n      <td>10070</td>\n      <td>10137</td>\n      <td>10172</td>\n      <td>10206</td>\n      <td>10251</td>\n      <td>10275</td>\n      <td>10312</td>\n      <td>10352</td>\n      <td>10391</td>\n    </tr>\n    <tr>\n      <th>Angola</th>\n      <td>0</td>\n      <td>0</td>\n      <td>0</td>\n      <td>0</td>\n      <td>0</td>\n      <td>0</td>\n      <td>0</td>\n      <td>0</td>\n      <td>0</td>\n      <td>0</td>\n      <td>...</td>\n      <td>19900</td>\n      <td>19937</td>\n      <td>19996</td>\n      <td>20030</td>\n      <td>20062</td>\n      <td>20086</td>\n      <td>20112</td>\n      <td>20163</td>\n      <td>20210</td>\n      <td>20261</td>\n    </tr>\n    <tr>\n      <th>...</th>\n      <td>...</td>\n      <td>...</td>\n      <td>...</td>\n      <td>...</td>\n      <td>...</td>\n      <td>...</td>\n      <td>...</td>\n      <td>...</td>\n      <td>...</td>\n      <td>...</td>\n      <td>...</td>\n      <td>...</td>\n      <td>...</td>\n      <td>...</td>\n      <td>...</td>\n      <td>...</td>\n      <td>...</td>\n      <td>...</td>\n      <td>...</td>\n      <td>...</td>\n      <td>...</td>\n    </tr>\n    <tr>\n      <th>West Bank and Gaza</th>\n      <td>0</td>\n      <td>0</td>\n      <td>0</td>\n      <td>0</td>\n      <td>0</td>\n      <td>0</td>\n      <td>0</td>\n      <td>0</td>\n      <td>0</td>\n      <td>0</td>\n      <td>...</td>\n      <td>159956</td>\n      <td>160426</td>\n      <td>161087</td>\n      <td>161559</td>\n      <td>162029</td>\n      <td>162601</td>\n      <td>163213</td>\n      <td>163975</td>\n      <td>164736</td>\n      <td>165535</td>\n    </tr>\n    <tr>\n      <th>Yemen</th>\n      <td>0</td>\n      <td>0</td>\n      <td>0</td>\n      <td>0</td>\n      <td>0</td>\n      <td>0</td>\n      <td>0</td>\n      <td>0</td>\n      <td>0</td>\n      <td>0</td>\n      <td>...</td>\n      <td>2122</td>\n      <td>2122</td>\n      <td>2122</td>\n      <td>2124</td>\n      <td>2127</td>\n      <td>2127</td>\n      <td>2131</td>\n      <td>2131</td>\n      <td>2133</td>\n      <td>2134</td>\n    </tr>\n    <tr>\n      <th>Zambia</th>\n      <td>0</td>\n      <td>0</td>\n      <td>0</td>\n      <td>0</td>\n      <td>0</td>\n      <td>0</td>\n      <td>0</td>\n      <td>0</td>\n      <td>0</td>\n      <td>0</td>\n      <td>...</td>\n      <td>56233</td>\n      <td>57489</td>\n      <td>59003</td>\n      <td>60427</td>\n      <td>61427</td>\n      <td>62633</td>\n      <td>63573</td>\n      <td>64610</td>\n      <td>65573</td>\n      <td>66598</td>\n    </tr>\n    <tr>\n      <th>Zimbabwe</th>\n      <td>0</td>\n      <td>0</td>\n      <td>0</td>\n      <td>0</td>\n      <td>0</td>\n      <td>0</td>\n      <td>0</td>\n      <td>0</td>\n      <td>0</td>\n      <td>0</td>\n      <td>...</td>\n      <td>33814</td>\n      <td>33964</td>\n      <td>34171</td>\n      <td>34331</td>\n      <td>34487</td>\n      <td>34552</td>\n      <td>34658</td>\n      <td>34781</td>\n      <td>34864</td>\n      <td>34864</td>\n    </tr>\n    <tr>\n      <th>World</th>\n      <td>557</td>\n      <td>655</td>\n      <td>941</td>\n      <td>1433</td>\n      <td>2118</td>\n      <td>2927</td>\n      <td>5578</td>\n      <td>6167</td>\n      <td>8235</td>\n      <td>9927</td>\n      <td>...</td>\n      <td>103869838</td>\n      <td>104391868</td>\n      <td>104857988</td>\n      <td>105392577</td>\n      <td>105764730</td>\n      <td>106162536</td>\n      <td>106478046</td>\n      <td>106905601</td>\n      <td>107340682</td>\n      <td>107780490</td>\n    </tr>\n  </tbody>\n</table>\n<p>190 rows × 387 columns</p>\n</div>"
     },
     "metadata": {},
     "execution_count": 19
    }
   ],
   "source": [
    "time_series['confirmed']"
   ]
  },
  {
   "cell_type": "code",
   "execution_count": 5,
   "metadata": {},
   "outputs": [],
   "source": [
    "# time_series['infected'] = time_series['confirmed']-time_series['recovered']-time_series['deaths']\n",
    "\n",
    "# for metric in time_series:\n",
    "#     time_series[metric].loc['World'] = time_series[metric].sum()\n",
    "\n",
    "# for metric in metrics:\n",
    "#     time_series[f'daily_{metric}'] = time_series[metric].diff(axis=1)\n",
    "#     time_series[f'7MA_daily_{metric}'] = time_series[f'daily_{metric}'].rolling(window=7, axis=1).mean()"
   ]
  },
  {
   "cell_type": "code",
   "execution_count": 6,
   "metadata": {},
   "outputs": [],
   "source": [
    "sources['iso'] = 'https://raw.githubusercontent.com/lukes/ISO-3166-Countries-with-Regional-Codes/master/all/all.csv'\n",
    "iso_df = pd.read_csv(sources['iso'], index_col='name')\n",
    "rename = {\n",
    "    \"Bolivia (Plurinational State of)\": \"Bolivia\",\n",
    "    \"Brunei Darussalam\": \"Brunei\",\n",
    "    \"Côte d'Ivoire\": \"Cote d'Ivoire\",\n",
    "    \"Iran (Islamic Republic of)\": \"Iran\",\n",
    "    \"Korea, Republic of\": \"Korea, South\",\n",
    "    \"Taiwan, Province of China\": \"Taiwan*\",\n",
    "    \"United States of America\": \"US\",\n",
    "    \"Russian Federation\":\"Russia\",\n",
    "    \"Venezuela (Bolivarian Republic of)\": \"Venezuela\",\n",
    "    \"United Kingdom of Great Britain and Northern Ireland\": \"United Kingdom\",\n",
    "    \"Moldova, Republic of\": \"Moldova\",\n",
    "    \"Viet Nam\": \"Vietnam\",\n",
    "    \"Tanzania, United Republic of\": \"Tanzania\",\n",
    "    \"Palestine, State of\": \"West Bank and Gaza\",\n",
    "    \"Syrian Arab Republic\": \"Syria\",\n",
    "    \"Lao People's Democratic Republic\": \"Laos\",\n",
    "    \"Myanmar\":\"Burma\",\n",
    "    \"Congo, Democratic Republic of the\": \"Congo (Kinshasa)\",\n",
    "    \"Congo\": \"Congo (Brazzaville)\"\n",
    "}\n",
    "iso_df.rename(index=rename, inplace=True)\n",
    "iso_df.loc['Kosovo'] = 'XK'\n",
    "iso_df.loc['Namibia'] = 'NA'\n",
    "iso_df.loc['World'] = 'WD'"
   ]
  },
  {
   "cell_type": "code",
   "execution_count": 24,
   "metadata": {},
   "outputs": [],
   "source": [
    "sources['vaccines'] = 'https://raw.githubusercontent.com/owid/covid-19-data/master/public/data/vaccinations/vaccinations.csv'\n",
    "df = pd.read_csv(sources['vaccines'])\n",
    "replace = {'United States': 'US'}\n",
    "df['location'].replace(replace, inplace=True)\n",
    "df['date'] = df['date'].apply(lambda date: datetime.strptime(date, '%Y-%m-%d').strftime('%#m/%#d/%y')) \n",
    "vaccines_df = pd.DataFrame(index=time_series['confirmed'].index, columns=time_series['confirmed'].columns)\n",
    "\n",
    "for country in iso_df.index:\n",
    "    try:\n",
    "        tmp_df = df[df['location'] == country]\n",
    "        tmp_df.set_index('date', inplace=True)\n",
    "        vaccines_df.loc[country] = tmp_df['total_vaccinations']\n",
    "    except: continue\n",
    "\n",
    "vaccines_df = vaccines_df.iloc[:,:-1]\n",
    "vaccines_df.fillna(method='ffill', inplace=True, axis=1)\n",
    "vaccines_df.fillna(value=0, inplace=True)\n",
    "time_series['vaccines'] = vaccines_df"
   ]
  },
  {
   "cell_type": "code",
   "execution_count": 25,
   "metadata": {},
   "outputs": [
    {
     "output_type": "execute_result",
     "data": {
      "text/plain": [
       "                                      1/22/20  1/23/20  1/24/20  1/25/20  \\\n",
       "Country/Region                                                             \n",
       "Afghanistan                               0.0      0.0      0.0      0.0   \n",
       "Albania                                   0.0      0.0      0.0      0.0   \n",
       "Algeria                                   0.0      0.0      0.0      0.0   \n",
       "Andorra                                   0.0      0.0      0.0      0.0   \n",
       "Angola                                    0.0      0.0      0.0      0.0   \n",
       "...                                       ...      ...      ...      ...   \n",
       "United States Minor Outlying Islands      0.0      0.0      0.0      0.0   \n",
       "Virgin Islands (British)                  0.0      0.0      0.0      0.0   \n",
       "Virgin Islands (U.S.)                     0.0      0.0      0.0      0.0   \n",
       "Wallis and Futuna                         0.0      0.0      0.0      0.0   \n",
       "Western Sahara                            0.0      0.0      0.0      0.0   \n",
       "\n",
       "                                      1/26/20  1/27/20  1/28/20  1/29/20  \\\n",
       "Country/Region                                                             \n",
       "Afghanistan                               0.0      0.0      0.0      0.0   \n",
       "Albania                                   0.0      0.0      0.0      0.0   \n",
       "Algeria                                   0.0      0.0      0.0      0.0   \n",
       "Andorra                                   0.0      0.0      0.0      0.0   \n",
       "Angola                                    0.0      0.0      0.0      0.0   \n",
       "...                                       ...      ...      ...      ...   \n",
       "United States Minor Outlying Islands      0.0      0.0      0.0      0.0   \n",
       "Virgin Islands (British)                  0.0      0.0      0.0      0.0   \n",
       "Virgin Islands (U.S.)                     0.0      0.0      0.0      0.0   \n",
       "Wallis and Futuna                         0.0      0.0      0.0      0.0   \n",
       "Western Sahara                            0.0      0.0      0.0      0.0   \n",
       "\n",
       "                                      1/30/20  1/31/20  ...  2/1/21  2/2/21  \\\n",
       "Country/Region                                          ...                   \n",
       "Afghanistan                               0.0      0.0  ...     0.0     0.0   \n",
       "Albania                                   0.0      0.0  ...   549.0   550.0   \n",
       "Algeria                                   0.0      0.0  ...    30.0    30.0   \n",
       "Andorra                                   0.0      0.0  ...  1036.0  1036.0   \n",
       "Angola                                    0.0      0.0  ...     0.0     0.0   \n",
       "...                                       ...      ...  ...     ...     ...   \n",
       "United States Minor Outlying Islands      0.0      0.0  ...     0.0     0.0   \n",
       "Virgin Islands (British)                  0.0      0.0  ...     0.0     0.0   \n",
       "Virgin Islands (U.S.)                     0.0      0.0  ...     0.0     0.0   \n",
       "Wallis and Futuna                         0.0      0.0  ...     0.0     0.0   \n",
       "Western Sahara                            0.0      0.0  ...     0.0     0.0   \n",
       "\n",
       "                                      2/3/21  2/4/21  2/5/21  2/6/21  2/7/21  \\\n",
       "Country/Region                                                                 \n",
       "Afghanistan                              0.0     0.0     0.0     0.0     0.0   \n",
       "Albania                                550.0   550.0   550.0   550.0   550.0   \n",
       "Algeria                                 30.0    30.0    30.0    30.0    30.0   \n",
       "Andorra                               1036.0  1036.0  1036.0  1036.0  1036.0   \n",
       "Angola                                   0.0     0.0     0.0     0.0     0.0   \n",
       "...                                      ...     ...     ...     ...     ...   \n",
       "United States Minor Outlying Islands     0.0     0.0     0.0     0.0     0.0   \n",
       "Virgin Islands (British)                 0.0     0.0     0.0     0.0     0.0   \n",
       "Virgin Islands (U.S.)                    0.0     0.0     0.0     0.0     0.0   \n",
       "Wallis and Futuna                        0.0     0.0     0.0     0.0     0.0   \n",
       "Western Sahara                           0.0     0.0     0.0     0.0     0.0   \n",
       "\n",
       "                                      2/8/21  2/9/21  2/10/21  \n",
       "Country/Region                                                 \n",
       "Afghanistan                              0.0     0.0      0.0  \n",
       "Albania                                550.0  1127.0   1127.0  \n",
       "Algeria                                 30.0    30.0     30.0  \n",
       "Andorra                               1036.0  1036.0   1291.0  \n",
       "Angola                                   0.0     0.0      0.0  \n",
       "...                                      ...     ...      ...  \n",
       "United States Minor Outlying Islands     0.0     0.0      0.0  \n",
       "Virgin Islands (British)                 0.0     0.0      0.0  \n",
       "Virgin Islands (U.S.)                    0.0     0.0      0.0  \n",
       "Wallis and Futuna                        0.0     0.0      0.0  \n",
       "Western Sahara                           0.0     0.0      0.0  \n",
       "\n",
       "[251 rows x 386 columns]"
      ],
      "text/html": "<div>\n<style scoped>\n    .dataframe tbody tr th:only-of-type {\n        vertical-align: middle;\n    }\n\n    .dataframe tbody tr th {\n        vertical-align: top;\n    }\n\n    .dataframe thead th {\n        text-align: right;\n    }\n</style>\n<table border=\"1\" class=\"dataframe\">\n  <thead>\n    <tr style=\"text-align: right;\">\n      <th></th>\n      <th>1/22/20</th>\n      <th>1/23/20</th>\n      <th>1/24/20</th>\n      <th>1/25/20</th>\n      <th>1/26/20</th>\n      <th>1/27/20</th>\n      <th>1/28/20</th>\n      <th>1/29/20</th>\n      <th>1/30/20</th>\n      <th>1/31/20</th>\n      <th>...</th>\n      <th>2/1/21</th>\n      <th>2/2/21</th>\n      <th>2/3/21</th>\n      <th>2/4/21</th>\n      <th>2/5/21</th>\n      <th>2/6/21</th>\n      <th>2/7/21</th>\n      <th>2/8/21</th>\n      <th>2/9/21</th>\n      <th>2/10/21</th>\n    </tr>\n    <tr>\n      <th>Country/Region</th>\n      <th></th>\n      <th></th>\n      <th></th>\n      <th></th>\n      <th></th>\n      <th></th>\n      <th></th>\n      <th></th>\n      <th></th>\n      <th></th>\n      <th></th>\n      <th></th>\n      <th></th>\n      <th></th>\n      <th></th>\n      <th></th>\n      <th></th>\n      <th></th>\n      <th></th>\n      <th></th>\n      <th></th>\n    </tr>\n  </thead>\n  <tbody>\n    <tr>\n      <th>Afghanistan</th>\n      <td>0.0</td>\n      <td>0.0</td>\n      <td>0.0</td>\n      <td>0.0</td>\n      <td>0.0</td>\n      <td>0.0</td>\n      <td>0.0</td>\n      <td>0.0</td>\n      <td>0.0</td>\n      <td>0.0</td>\n      <td>...</td>\n      <td>0.0</td>\n      <td>0.0</td>\n      <td>0.0</td>\n      <td>0.0</td>\n      <td>0.0</td>\n      <td>0.0</td>\n      <td>0.0</td>\n      <td>0.0</td>\n      <td>0.0</td>\n      <td>0.0</td>\n    </tr>\n    <tr>\n      <th>Albania</th>\n      <td>0.0</td>\n      <td>0.0</td>\n      <td>0.0</td>\n      <td>0.0</td>\n      <td>0.0</td>\n      <td>0.0</td>\n      <td>0.0</td>\n      <td>0.0</td>\n      <td>0.0</td>\n      <td>0.0</td>\n      <td>...</td>\n      <td>549.0</td>\n      <td>550.0</td>\n      <td>550.0</td>\n      <td>550.0</td>\n      <td>550.0</td>\n      <td>550.0</td>\n      <td>550.0</td>\n      <td>550.0</td>\n      <td>1127.0</td>\n      <td>1127.0</td>\n    </tr>\n    <tr>\n      <th>Algeria</th>\n      <td>0.0</td>\n      <td>0.0</td>\n      <td>0.0</td>\n      <td>0.0</td>\n      <td>0.0</td>\n      <td>0.0</td>\n      <td>0.0</td>\n      <td>0.0</td>\n      <td>0.0</td>\n      <td>0.0</td>\n      <td>...</td>\n      <td>30.0</td>\n      <td>30.0</td>\n      <td>30.0</td>\n      <td>30.0</td>\n      <td>30.0</td>\n      <td>30.0</td>\n      <td>30.0</td>\n      <td>30.0</td>\n      <td>30.0</td>\n      <td>30.0</td>\n    </tr>\n    <tr>\n      <th>Andorra</th>\n      <td>0.0</td>\n      <td>0.0</td>\n      <td>0.0</td>\n      <td>0.0</td>\n      <td>0.0</td>\n      <td>0.0</td>\n      <td>0.0</td>\n      <td>0.0</td>\n      <td>0.0</td>\n      <td>0.0</td>\n      <td>...</td>\n      <td>1036.0</td>\n      <td>1036.0</td>\n      <td>1036.0</td>\n      <td>1036.0</td>\n      <td>1036.0</td>\n      <td>1036.0</td>\n      <td>1036.0</td>\n      <td>1036.0</td>\n      <td>1036.0</td>\n      <td>1291.0</td>\n    </tr>\n    <tr>\n      <th>Angola</th>\n      <td>0.0</td>\n      <td>0.0</td>\n      <td>0.0</td>\n      <td>0.0</td>\n      <td>0.0</td>\n      <td>0.0</td>\n      <td>0.0</td>\n      <td>0.0</td>\n      <td>0.0</td>\n      <td>0.0</td>\n      <td>...</td>\n      <td>0.0</td>\n      <td>0.0</td>\n      <td>0.0</td>\n      <td>0.0</td>\n      <td>0.0</td>\n      <td>0.0</td>\n      <td>0.0</td>\n      <td>0.0</td>\n      <td>0.0</td>\n      <td>0.0</td>\n    </tr>\n    <tr>\n      <th>...</th>\n      <td>...</td>\n      <td>...</td>\n      <td>...</td>\n      <td>...</td>\n      <td>...</td>\n      <td>...</td>\n      <td>...</td>\n      <td>...</td>\n      <td>...</td>\n      <td>...</td>\n      <td>...</td>\n      <td>...</td>\n      <td>...</td>\n      <td>...</td>\n      <td>...</td>\n      <td>...</td>\n      <td>...</td>\n      <td>...</td>\n      <td>...</td>\n      <td>...</td>\n      <td>...</td>\n    </tr>\n    <tr>\n      <th>United States Minor Outlying Islands</th>\n      <td>0.0</td>\n      <td>0.0</td>\n      <td>0.0</td>\n      <td>0.0</td>\n      <td>0.0</td>\n      <td>0.0</td>\n      <td>0.0</td>\n      <td>0.0</td>\n      <td>0.0</td>\n      <td>0.0</td>\n      <td>...</td>\n      <td>0.0</td>\n      <td>0.0</td>\n      <td>0.0</td>\n      <td>0.0</td>\n      <td>0.0</td>\n      <td>0.0</td>\n      <td>0.0</td>\n      <td>0.0</td>\n      <td>0.0</td>\n      <td>0.0</td>\n    </tr>\n    <tr>\n      <th>Virgin Islands (British)</th>\n      <td>0.0</td>\n      <td>0.0</td>\n      <td>0.0</td>\n      <td>0.0</td>\n      <td>0.0</td>\n      <td>0.0</td>\n      <td>0.0</td>\n      <td>0.0</td>\n      <td>0.0</td>\n      <td>0.0</td>\n      <td>...</td>\n      <td>0.0</td>\n      <td>0.0</td>\n      <td>0.0</td>\n      <td>0.0</td>\n      <td>0.0</td>\n      <td>0.0</td>\n      <td>0.0</td>\n      <td>0.0</td>\n      <td>0.0</td>\n      <td>0.0</td>\n    </tr>\n    <tr>\n      <th>Virgin Islands (U.S.)</th>\n      <td>0.0</td>\n      <td>0.0</td>\n      <td>0.0</td>\n      <td>0.0</td>\n      <td>0.0</td>\n      <td>0.0</td>\n      <td>0.0</td>\n      <td>0.0</td>\n      <td>0.0</td>\n      <td>0.0</td>\n      <td>...</td>\n      <td>0.0</td>\n      <td>0.0</td>\n      <td>0.0</td>\n      <td>0.0</td>\n      <td>0.0</td>\n      <td>0.0</td>\n      <td>0.0</td>\n      <td>0.0</td>\n      <td>0.0</td>\n      <td>0.0</td>\n    </tr>\n    <tr>\n      <th>Wallis and Futuna</th>\n      <td>0.0</td>\n      <td>0.0</td>\n      <td>0.0</td>\n      <td>0.0</td>\n      <td>0.0</td>\n      <td>0.0</td>\n      <td>0.0</td>\n      <td>0.0</td>\n      <td>0.0</td>\n      <td>0.0</td>\n      <td>...</td>\n      <td>0.0</td>\n      <td>0.0</td>\n      <td>0.0</td>\n      <td>0.0</td>\n      <td>0.0</td>\n      <td>0.0</td>\n      <td>0.0</td>\n      <td>0.0</td>\n      <td>0.0</td>\n      <td>0.0</td>\n    </tr>\n    <tr>\n      <th>Western Sahara</th>\n      <td>0.0</td>\n      <td>0.0</td>\n      <td>0.0</td>\n      <td>0.0</td>\n      <td>0.0</td>\n      <td>0.0</td>\n      <td>0.0</td>\n      <td>0.0</td>\n      <td>0.0</td>\n      <td>0.0</td>\n      <td>...</td>\n      <td>0.0</td>\n      <td>0.0</td>\n      <td>0.0</td>\n      <td>0.0</td>\n      <td>0.0</td>\n      <td>0.0</td>\n      <td>0.0</td>\n      <td>0.0</td>\n      <td>0.0</td>\n      <td>0.0</td>\n    </tr>\n  </tbody>\n</table>\n<p>251 rows × 386 columns</p>\n</div>"
     },
     "metadata": {},
     "execution_count": 25
    }
   ],
   "source": [
    "vaccines_df"
   ]
  },
  {
   "cell_type": "code",
   "execution_count": 8,
   "metadata": {},
   "outputs": [],
   "source": [
    "for metric in metrics: \n",
    "    time_series[metric].loc['World'] = time_series[metric].sum()\n",
    "\n",
    "metrics.append(\"vaccines\")\n",
    "for metric in metrics:\n",
    "    time_series[f'daily_{metric}'] = time_series[metric].diff(axis=1)\n",
    "    time_series[f'7MA_daily_{metric}'] = time_series[f'daily_{metric}'].rolling(window=7, axis=1).mean()"
   ]
  },
  {
   "cell_type": "code",
   "execution_count": 9,
   "metadata": {},
   "outputs": [],
   "source": [
    "general_df = pd.DataFrame(index=time_series['confirmed'].index)\n",
    "\n",
    "for metric in metrics:\n",
    "    general_df[metric] = time_series[metric].iloc[:,-1]\n",
    "    general_df[f'daily_{metric}'] = time_series[f'daily_{metric}'].iloc[:,-1]\n",
    "\n",
    "# general_df.fillna(value=0, inplace=True)\n",
    "general_df = general_df.astype(int)\n",
    "general_df.sort_values('confirmed', ascending=False, inplace=True) \n",
    "general_df = general_df.applymap(lambda x: '{:,}'.format(x))"
   ]
  },
  {
   "cell_type": "code",
   "execution_count": 10,
   "metadata": {},
   "outputs": [],
   "source": [
    "general_df['country'] = general_df.index\n",
    "general_df['iso'] = iso_df['alpha-2']\n",
    "general_df['region'] = iso_df['region']\n",
    "general_df['last_update'] = str(datetime.utcnow())[:-7]"
   ]
  },
  {
   "cell_type": "code",
   "execution_count": 11,
   "metadata": {},
   "outputs": [],
   "source": [
    "no_match = general_df[general_df['iso'].isnull()].index\n",
    "for metric in time_series:\n",
    "    time_series[metric].drop(index=no_match, inplace=True)\n",
    "general_df.drop(index=no_match, inplace=True)"
   ]
  },
  {
   "cell_type": "code",
   "execution_count": 12,
   "metadata": {},
   "outputs": [],
   "source": [
    "class countryData:\n",
    "    def __init__(self, country):\n",
    "        self.general = general_df.loc[country]\n",
    "        self.time_series = {metric: time_series[metric].loc[country] for metric in time_series}\n",
    "        self.preProcessing()\n",
    "    \n",
    "    def preProcessing(self):\n",
    "        def getStart(metric, atleast=1):\n",
    "            s = self.time_series[metric]\n",
    "            tmp_s = s[s > atleast]\n",
    "            if len(tmp_s): start = tmp_s.index[0]\n",
    "            else: start = s.index[0]\n",
    "            if metric == '7MA_daily_confirmed' and start < '1/29/20': start = '1/29/20' \n",
    "            return start\n",
    "        \n",
    "        # start = getStart(metric='7MA_daily_confirmed', atleast=1000)\n",
    "        start = '6/1/20'\n",
    "        self.time_series = {metric: self.time_series[metric][start:] for metric in self.time_series}\n",
    "\n",
    "        start_vaccines = getStart(metric='7MA_daily_vaccines', atleast=1000)\n",
    "        self.time_series['vaccines'] = self.time_series['vaccines'][start_vaccines:]\n",
    "        self.time_series['daily_vaccines'] = self.time_series['daily_vaccines'][start_vaccines:]\n",
    "        self.time_series['7MA_daily_vaccines'] = self.time_series['7MA_daily_vaccines'][start_vaccines:]\n",
    "        # self.time_series['starts'] = start_vaccines\n",
    "        self.time_series['starts'] = {'confirmed':toUnixTime(start, format=\"%m/%d/%y\"),'vaccines': toUnixTime(start_vaccines, format=\"%m/%d/%y\")} \n",
    "\n",
    "    def to_dict(self):\n",
    "        res = {\n",
    "            'general': self.general.to_dict(),\n",
    "            'time_series': {metric: self.time_series[metric].to_list() for metric in self.time_series if metric != 'starts'}\n",
    "        }\n",
    "        res['time_series']['starts'] = self.time_series['starts']\n",
    "        return res"
   ]
  },
  {
   "cell_type": "code",
   "execution_count": 18,
   "metadata": {},
   "outputs": [
    {
     "output_type": "execute_result",
     "data": {
      "text/plain": [
       "10/10/20     52803\n",
       "10/11/20     53187\n",
       "10/12/20     53498\n",
       "10/13/20     54047\n",
       "10/14/20     54493\n",
       "             ...  \n",
       "2/7/21      606166\n",
       "2/8/21      612921\n",
       "2/9/21      628078\n",
       "2/10/21     636859\n",
       "2/11/21     645122\n",
       "Name: Portugal, Length: 125, dtype: int64"
      ]
     },
     "metadata": {},
     "execution_count": 18
    }
   ],
   "source": [
    "country_data = countryData('Portugal')\n",
    "country_data.time_series['recovered']"
   ]
  },
  {
   "cell_type": "code",
   "execution_count": 14,
   "metadata": {},
   "outputs": [],
   "source": [
    "def genCountryData(country):\n",
    "    data = countryData(country)\n",
    "    return data.to_dict()"
   ]
  },
  {
   "cell_type": "code",
   "execution_count": 15,
   "metadata": {},
   "outputs": [],
   "source": [
    "def manualUpdate():\n",
    "    general_df.to_json('./data/general.json', orient='records')\n",
    "    for country in general_df.index:\n",
    "        country_iso = general_df.loc[country]['iso']\n",
    "        res = genCountryData(country)\n",
    "        with open('./data/time_series/'+country_iso+'.json', 'w') as doc: json.dump(res, doc)"
   ]
  },
  {
   "cell_type": "code",
   "execution_count": 16,
   "metadata": {},
   "outputs": [],
   "source": [
    "def updateData(access_token):\n",
    "    g = Github(access_token)\n",
    "    repo = g.get_user().get_repo(\"CoronaTrack\")\n",
    "    \n",
    "    res = general.to_json(orient='records')\n",
    "    contents = repo.get_contents(f\"data/general.json\")\n",
    "    repo.update_file(contents.path, \"automatic update\", res, contents.sha)\n",
    "    \n",
    "    for country in general_df.index:\n",
    "        country_iso = general_df.loc[country]['iso']\n",
    "        country_data = genCountryData(country)\n",
    "        res = json.dumps(country_data)\n",
    "    \n",
    "        contents = repo.get_contents(f\"data/time_series/{country_iso}.json\")\n",
    "        repo.update_file(contents.path, \"automatic update\", res, contents.sha)\n"
   ]
  },
  {
   "cell_type": "code",
   "execution_count": 17,
   "metadata": {},
   "outputs": [],
   "source": [
    "manualUpdate()"
   ]
  },
  {
   "cell_type": "code",
   "execution_count": null,
   "metadata": {},
   "outputs": [],
   "source": []
  }
 ]
}