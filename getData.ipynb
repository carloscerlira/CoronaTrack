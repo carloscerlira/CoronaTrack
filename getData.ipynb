{
 "metadata": {
  "language_info": {
   "codemirror_mode": {
    "name": "ipython",
    "version": 3
   },
   "file_extension": ".py",
   "mimetype": "text/x-python",
   "name": "python",
   "nbconvert_exporter": "python",
   "pygments_lexer": "ipython3",
   "version": "3.8.3-final"
  },
  "orig_nbformat": 2,
  "kernelspec": {
   "name": "python3",
   "display_name": "Python 3",
   "language": "python"
  }
 },
 "nbformat": 4,
 "nbformat_minor": 2,
 "cells": [
  {
   "cell_type": "code",
   "execution_count": 1,
   "metadata": {},
   "outputs": [],
   "source": [
    "import pandas as pd \n",
    "import numpy as np\n",
    "import matplotlib.pyplot as plt\n",
    "plt.style.use('seaborn')\n",
    "from datetime import datetime\n",
    "import json\n",
    "import requests\n",
    "from github import Github"
   ]
  },
  {
   "cell_type": "code",
   "execution_count": 2,
   "metadata": {},
   "outputs": [],
   "source": [
    "def toUnixTime(date, format):\n",
    "    t2 = datetime.strptime(date, format)\n",
    "    t1 = datetime(1970, 1, 1)\n",
    "    ans = (t2 - t1).total_seconds()*1000\n",
    "    ans = int(ans)\n",
    "    return ans"
   ]
  },
  {
   "cell_type": "code",
   "execution_count": 3,
   "metadata": {},
   "outputs": [],
   "source": [
    "sources = {}\n",
    "data = {}"
   ]
  },
  {
   "cell_type": "code",
   "execution_count": 4,
   "metadata": {},
   "outputs": [],
   "source": [
    "url = lambda metric: f'https://raw.githubusercontent.com/CSSEGISandData/COVID-19/master/csse_covid_19_data/csse_covid_19_time_series/time_series_covid19_{metric}_global.csv' \n",
    "metrics = ['confirmed', 'recovered', 'deaths'] \n",
    "for metric in metrics: sources[metric] = url(metric)\n",
    "time_series = {metric: pd.read_csv(sources[metric]) for metric in metrics}\n",
    "\n",
    "for metric in time_series:\n",
    "    df = time_series[metric]\n",
    "    gb = df.groupby('Country/Region')\n",
    "    df = gb.sum()\n",
    "    df = df.loc[:,'1/22/20':] \n",
    "    time_series[metric] = df\n",
    "\n",
    "metrics.append('infected')\n",
    "time_series['infected'] = time_series['confirmed']-time_series['recovered']-time_series['deaths']"
   ]
  },
  {
   "cell_type": "code",
   "execution_count": 5,
   "metadata": {},
   "outputs": [],
   "source": [
    "# time_series['infected'] = time_series['confirmed']-time_series['recovered']-time_series['deaths']\n",
    "\n",
    "# for metric in time_series:\n",
    "#     time_series[metric].loc['World'] = time_series[metric].sum()\n",
    "\n",
    "# for metric in metrics:\n",
    "#     time_series[f'daily_{metric}'] = time_series[metric].diff(axis=1)\n",
    "#     time_series[f'7MA_daily_{metric}'] = time_series[f'daily_{metric}'].rolling(window=7, axis=1).mean()"
   ]
  },
  {
   "cell_type": "code",
   "execution_count": 6,
   "metadata": {},
   "outputs": [],
   "source": [
    "sources['iso'] = 'https://raw.githubusercontent.com/lukes/ISO-3166-Countries-with-Regional-Codes/master/all/all.csv'\n",
    "iso_df = pd.read_csv(sources['iso'], index_col='name')\n",
    "rename = {\n",
    "    \"Bolivia (Plurinational State of)\": \"Bolivia\",\n",
    "    \"Brunei Darussalam\": \"Brunei\",\n",
    "    \"Côte d'Ivoire\": \"Cote d'Ivoire\",\n",
    "    \"Iran (Islamic Republic of)\": \"Iran\",\n",
    "    \"Korea, Republic of\": \"Korea, South\",\n",
    "    \"Taiwan, Province of China\": \"Taiwan*\",\n",
    "    \"United States of America\": \"US\",\n",
    "    \"Russian Federation\":\"Russia\",\n",
    "    \"Venezuela (Bolivarian Republic of)\": \"Venezuela\",\n",
    "    \"United Kingdom of Great Britain and Northern Ireland\": \"United Kingdom\",\n",
    "    \"Moldova, Republic of\": \"Moldova\",\n",
    "    \"Viet Nam\": \"Vietnam\",\n",
    "    \"Tanzania, United Republic of\": \"Tanzania\",\n",
    "    \"Palestine, State of\": \"West Bank and Gaza\",\n",
    "    \"Syrian Arab Republic\": \"Syria\",\n",
    "    \"Lao People's Democratic Republic\": \"Laos\",\n",
    "    \"Myanmar\":\"Burma\",\n",
    "    \"Congo, Democratic Republic of the\": \"Congo (Kinshasa)\",\n",
    "    \"Congo\": \"Congo (Brazzaville)\"\n",
    "}\n",
    "iso_df.rename(index=rename, inplace=True)\n",
    "iso_df.loc['Kosovo'] = 'XK'\n",
    "iso_df.loc['Namibia'] = 'NA'\n",
    "iso_df.loc['World'] = 'WD'"
   ]
  },
  {
   "cell_type": "code",
   "execution_count": 34,
   "metadata": {},
   "outputs": [
    {
     "output_type": "stream",
     "name": "stdout",
     "text": [
      "AxesSubplot(0.125,0.125;0.775x0.755)\n"
     ]
    },
    {
     "output_type": "display_data",
     "data": {
      "text/plain": "<Figure size 576x396 with 1 Axes>",
      "image/svg+xml": "<?xml version=\"1.0\" encoding=\"utf-8\" standalone=\"no\"?>\r\n<!DOCTYPE svg PUBLIC \"-//W3C//DTD SVG 1.1//EN\"\r\n  \"http://www.w3.org/Graphics/SVG/1.1/DTD/svg11.dtd\">\r\n<!-- Created with matplotlib (https://matplotlib.org/) -->\r\n<svg height=\"339.683125pt\" version=\"1.1\" viewBox=\"0 0 481.7 339.683125\" width=\"481.7pt\" xmlns=\"http://www.w3.org/2000/svg\" xmlns:xlink=\"http://www.w3.org/1999/xlink\">\r\n <defs>\r\n  <style type=\"text/css\">\r\n*{stroke-linecap:butt;stroke-linejoin:round;}\r\n  </style>\r\n </defs>\r\n <g id=\"figure_1\">\r\n  <g id=\"patch_1\">\r\n   <path d=\"M 0 339.683125 \r\nL 481.7 339.683125 \r\nL 481.7 0 \r\nL 0 0 \r\nz\r\n\" style=\"fill:#ffffff;\"/>\r\n  </g>\r\n  <g id=\"axes_1\">\r\n   <g id=\"patch_2\">\r\n    <path d=\"M 28.1 316.337812 \r\nL 474.5 316.337812 \r\nL 474.5 17.357812 \r\nL 28.1 17.357812 \r\nz\r\n\" style=\"fill:#eaeaf2;\"/>\r\n   </g>\r\n   <g id=\"matplotlib.axis_1\">\r\n    <g id=\"xtick_1\">\r\n     <g id=\"line2d_1\">\r\n      <path clip-path=\"url(#p5d5efa1534)\" d=\"M 66.035178 316.337812 \r\nL 66.035178 17.357812 \r\n\" style=\"fill:none;stroke:#ffffff;stroke-linecap:round;\"/>\r\n     </g>\r\n     <g id=\"line2d_2\"/>\r\n     <g id=\"text_1\">\r\n      <!-- 12/27/20 -->\r\n      <defs>\r\n       <path d=\"M 37.25 0 \r\nL 28.46875 0 \r\nL 28.46875 56 \r\nQ 25.296875 52.984375 20.140625 49.953125 \r\nQ 14.984375 46.921875 10.890625 45.40625 \r\nL 10.890625 53.90625 \r\nQ 18.265625 57.375 23.78125 62.296875 \r\nQ 29.296875 67.234375 31.59375 71.875 \r\nL 37.25 71.875 \r\nz\r\n\" id=\"ArialMT-49\"/>\r\n       <path d=\"M 50.34375 8.453125 \r\nL 50.34375 0 \r\nL 3.03125 0 \r\nQ 2.9375 3.171875 4.046875 6.109375 \r\nQ 5.859375 10.9375 9.828125 15.625 \r\nQ 13.8125 20.3125 21.34375 26.46875 \r\nQ 33.015625 36.03125 37.109375 41.625 \r\nQ 41.21875 47.21875 41.21875 52.203125 \r\nQ 41.21875 57.421875 37.46875 61 \r\nQ 33.734375 64.59375 27.734375 64.59375 \r\nQ 21.390625 64.59375 17.578125 60.78125 \r\nQ 13.765625 56.984375 13.71875 50.25 \r\nL 4.6875 51.171875 \r\nQ 5.609375 61.28125 11.65625 66.578125 \r\nQ 17.71875 71.875 27.9375 71.875 \r\nQ 38.234375 71.875 44.234375 66.15625 \r\nQ 50.25 60.453125 50.25 52 \r\nQ 50.25 47.703125 48.484375 43.546875 \r\nQ 46.734375 39.40625 42.65625 34.8125 \r\nQ 38.578125 30.21875 29.109375 22.21875 \r\nQ 21.1875 15.578125 18.9375 13.203125 \r\nQ 16.703125 10.84375 15.234375 8.453125 \r\nz\r\n\" id=\"ArialMT-50\"/>\r\n       <path d=\"M 0 -1.21875 \r\nL 20.75 72.796875 \r\nL 27.78125 72.796875 \r\nL 7.078125 -1.21875 \r\nz\r\n\" id=\"ArialMT-47\"/>\r\n       <path d=\"M 4.734375 62.203125 \r\nL 4.734375 70.65625 \r\nL 51.078125 70.65625 \r\nL 51.078125 63.8125 \r\nQ 44.234375 56.546875 37.515625 44.484375 \r\nQ 30.8125 32.421875 27.15625 19.671875 \r\nQ 24.515625 10.6875 23.78125 0 \r\nL 14.75 0 \r\nQ 14.890625 8.453125 18.0625 20.40625 \r\nQ 21.234375 32.375 27.171875 43.484375 \r\nQ 33.109375 54.59375 39.796875 62.203125 \r\nz\r\n\" id=\"ArialMT-55\"/>\r\n       <path d=\"M 4.15625 35.296875 \r\nQ 4.15625 48 6.765625 55.734375 \r\nQ 9.375 63.484375 14.515625 67.671875 \r\nQ 19.671875 71.875 27.484375 71.875 \r\nQ 33.25 71.875 37.59375 69.546875 \r\nQ 41.9375 67.234375 44.765625 62.859375 \r\nQ 47.609375 58.5 49.21875 52.21875 \r\nQ 50.828125 45.953125 50.828125 35.296875 \r\nQ 50.828125 22.703125 48.234375 14.96875 \r\nQ 45.65625 7.234375 40.5 3 \r\nQ 35.359375 -1.21875 27.484375 -1.21875 \r\nQ 17.140625 -1.21875 11.234375 6.203125 \r\nQ 4.15625 15.140625 4.15625 35.296875 \r\nz\r\nM 13.1875 35.296875 \r\nQ 13.1875 17.671875 17.3125 11.828125 \r\nQ 21.4375 6 27.484375 6 \r\nQ 33.546875 6 37.671875 11.859375 \r\nQ 41.796875 17.71875 41.796875 35.296875 \r\nQ 41.796875 52.984375 37.671875 58.78125 \r\nQ 33.546875 64.59375 27.390625 64.59375 \r\nQ 21.34375 64.59375 17.71875 59.46875 \r\nQ 13.1875 52.9375 13.1875 35.296875 \r\nz\r\n\" id=\"ArialMT-48\"/>\r\n      </defs>\r\n      <g style=\"fill:#262626;\" transform=\"translate(46.57424 330.495625)scale(0.1 -0.1)\">\r\n       <use xlink:href=\"#ArialMT-49\"/>\r\n       <use x=\"55.615234\" xlink:href=\"#ArialMT-50\"/>\r\n       <use x=\"111.230469\" xlink:href=\"#ArialMT-47\"/>\r\n       <use x=\"139.013672\" xlink:href=\"#ArialMT-50\"/>\r\n       <use x=\"194.628906\" xlink:href=\"#ArialMT-55\"/>\r\n       <use x=\"250.244141\" xlink:href=\"#ArialMT-47\"/>\r\n       <use x=\"278.027344\" xlink:href=\"#ArialMT-50\"/>\r\n       <use x=\"333.642578\" xlink:href=\"#ArialMT-48\"/>\r\n      </g>\r\n     </g>\r\n    </g>\r\n    <g id=\"xtick_2\">\r\n     <g id=\"line2d_3\">\r\n      <path clip-path=\"url(#p5d5efa1534)\" d=\"M 124.849407 316.337812 \r\nL 124.849407 17.357812 \r\n\" style=\"fill:none;stroke:#ffffff;stroke-linecap:round;\"/>\r\n     </g>\r\n     <g id=\"line2d_4\"/>\r\n     <g id=\"text_2\">\r\n      <!-- 1/6/21 -->\r\n      <defs>\r\n       <path d=\"M 49.75 54.046875 \r\nL 41.015625 53.375 \r\nQ 39.84375 58.546875 37.703125 60.890625 \r\nQ 34.125 64.65625 28.90625 64.65625 \r\nQ 24.703125 64.65625 21.53125 62.3125 \r\nQ 17.390625 59.28125 14.984375 53.46875 \r\nQ 12.59375 47.65625 12.5 36.921875 \r\nQ 15.671875 41.75 20.265625 44.09375 \r\nQ 24.859375 46.4375 29.890625 46.4375 \r\nQ 38.671875 46.4375 44.84375 39.96875 \r\nQ 51.03125 33.5 51.03125 23.25 \r\nQ 51.03125 16.5 48.125 10.71875 \r\nQ 45.21875 4.9375 40.140625 1.859375 \r\nQ 35.0625 -1.21875 28.609375 -1.21875 \r\nQ 17.625 -1.21875 10.6875 6.859375 \r\nQ 3.765625 14.9375 3.765625 33.5 \r\nQ 3.765625 54.25 11.421875 63.671875 \r\nQ 18.109375 71.875 29.4375 71.875 \r\nQ 37.890625 71.875 43.28125 67.140625 \r\nQ 48.6875 62.40625 49.75 54.046875 \r\nz\r\nM 13.875 23.1875 \r\nQ 13.875 18.65625 15.796875 14.5 \r\nQ 17.71875 10.359375 21.1875 8.171875 \r\nQ 24.65625 6 28.46875 6 \r\nQ 34.03125 6 38.03125 10.484375 \r\nQ 42.046875 14.984375 42.046875 22.703125 \r\nQ 42.046875 30.125 38.078125 34.390625 \r\nQ 34.125 38.671875 28.125 38.671875 \r\nQ 22.171875 38.671875 18.015625 34.390625 \r\nQ 13.875 30.125 13.875 23.1875 \r\nz\r\n\" id=\"ArialMT-54\"/>\r\n      </defs>\r\n      <g style=\"fill:#262626;\" transform=\"translate(110.949407 330.495625)scale(0.1 -0.1)\">\r\n       <use xlink:href=\"#ArialMT-49\"/>\r\n       <use x=\"55.615234\" xlink:href=\"#ArialMT-47\"/>\r\n       <use x=\"83.398438\" xlink:href=\"#ArialMT-54\"/>\r\n       <use x=\"139.013672\" xlink:href=\"#ArialMT-47\"/>\r\n       <use x=\"166.796875\" xlink:href=\"#ArialMT-50\"/>\r\n       <use x=\"222.412109\" xlink:href=\"#ArialMT-49\"/>\r\n      </g>\r\n     </g>\r\n    </g>\r\n    <g id=\"xtick_3\">\r\n     <g id=\"line2d_5\">\r\n      <path clip-path=\"url(#p5d5efa1534)\" d=\"M 183.663636 316.337812 \r\nL 183.663636 17.357812 \r\n\" style=\"fill:none;stroke:#ffffff;stroke-linecap:round;\"/>\r\n     </g>\r\n     <g id=\"line2d_6\"/>\r\n     <g id=\"text_3\">\r\n      <!-- 1/16/21 -->\r\n      <g style=\"fill:#262626;\" transform=\"translate(166.983168 330.495625)scale(0.1 -0.1)\">\r\n       <use xlink:href=\"#ArialMT-49\"/>\r\n       <use x=\"55.615234\" xlink:href=\"#ArialMT-47\"/>\r\n       <use x=\"83.398438\" xlink:href=\"#ArialMT-49\"/>\r\n       <use x=\"139.013672\" xlink:href=\"#ArialMT-54\"/>\r\n       <use x=\"194.628906\" xlink:href=\"#ArialMT-47\"/>\r\n       <use x=\"222.412109\" xlink:href=\"#ArialMT-50\"/>\r\n       <use x=\"278.027344\" xlink:href=\"#ArialMT-49\"/>\r\n      </g>\r\n     </g>\r\n    </g>\r\n    <g id=\"xtick_4\">\r\n     <g id=\"line2d_7\">\r\n      <path clip-path=\"url(#p5d5efa1534)\" d=\"M 242.477866 316.337812 \r\nL 242.477866 17.357812 \r\n\" style=\"fill:none;stroke:#ffffff;stroke-linecap:round;\"/>\r\n     </g>\r\n     <g id=\"line2d_8\"/>\r\n     <g id=\"text_4\">\r\n      <!-- 1/26/21 -->\r\n      <g style=\"fill:#262626;\" transform=\"translate(225.797397 330.495625)scale(0.1 -0.1)\">\r\n       <use xlink:href=\"#ArialMT-49\"/>\r\n       <use x=\"55.615234\" xlink:href=\"#ArialMT-47\"/>\r\n       <use x=\"83.398438\" xlink:href=\"#ArialMT-50\"/>\r\n       <use x=\"139.013672\" xlink:href=\"#ArialMT-54\"/>\r\n       <use x=\"194.628906\" xlink:href=\"#ArialMT-47\"/>\r\n       <use x=\"222.412109\" xlink:href=\"#ArialMT-50\"/>\r\n       <use x=\"278.027344\" xlink:href=\"#ArialMT-49\"/>\r\n      </g>\r\n     </g>\r\n    </g>\r\n    <g id=\"xtick_5\">\r\n     <g id=\"line2d_9\">\r\n      <path clip-path=\"url(#p5d5efa1534)\" d=\"M 301.292095 316.337812 \r\nL 301.292095 17.357812 \r\n\" style=\"fill:none;stroke:#ffffff;stroke-linecap:round;\"/>\r\n     </g>\r\n     <g id=\"line2d_10\"/>\r\n     <g id=\"text_5\">\r\n      <!-- 2/5/21 -->\r\n      <defs>\r\n       <path d=\"M 4.15625 18.75 \r\nL 13.375 19.53125 \r\nQ 14.40625 12.796875 18.140625 9.390625 \r\nQ 21.875 6 27.15625 6 \r\nQ 33.5 6 37.890625 10.78125 \r\nQ 42.28125 15.578125 42.28125 23.484375 \r\nQ 42.28125 31 38.0625 35.34375 \r\nQ 33.84375 39.703125 27 39.703125 \r\nQ 22.75 39.703125 19.328125 37.765625 \r\nQ 15.921875 35.84375 13.96875 32.765625 \r\nL 5.71875 33.84375 \r\nL 12.640625 70.609375 \r\nL 48.25 70.609375 \r\nL 48.25 62.203125 \r\nL 19.671875 62.203125 \r\nL 15.828125 42.96875 \r\nQ 22.265625 47.46875 29.34375 47.46875 \r\nQ 38.71875 47.46875 45.15625 40.96875 \r\nQ 51.609375 34.46875 51.609375 24.265625 \r\nQ 51.609375 14.546875 45.953125 7.46875 \r\nQ 39.0625 -1.21875 27.15625 -1.21875 \r\nQ 17.390625 -1.21875 11.203125 4.25 \r\nQ 5.03125 9.71875 4.15625 18.75 \r\nz\r\n\" id=\"ArialMT-53\"/>\r\n      </defs>\r\n      <g style=\"fill:#262626;\" transform=\"translate(287.392095 330.495625)scale(0.1 -0.1)\">\r\n       <use xlink:href=\"#ArialMT-50\"/>\r\n       <use x=\"55.615234\" xlink:href=\"#ArialMT-47\"/>\r\n       <use x=\"83.398438\" xlink:href=\"#ArialMT-53\"/>\r\n       <use x=\"139.013672\" xlink:href=\"#ArialMT-47\"/>\r\n       <use x=\"166.796875\" xlink:href=\"#ArialMT-50\"/>\r\n       <use x=\"222.412109\" xlink:href=\"#ArialMT-49\"/>\r\n      </g>\r\n     </g>\r\n    </g>\r\n    <g id=\"xtick_6\">\r\n     <g id=\"line2d_11\">\r\n      <path clip-path=\"url(#p5d5efa1534)\" d=\"M 360.106324 316.337812 \r\nL 360.106324 17.357812 \r\n\" style=\"fill:none;stroke:#ffffff;stroke-linecap:round;\"/>\r\n     </g>\r\n     <g id=\"line2d_12\"/>\r\n     <g id=\"text_6\">\r\n      <!-- 2/15/21 -->\r\n      <g style=\"fill:#262626;\" transform=\"translate(343.425855 330.495625)scale(0.1 -0.1)\">\r\n       <use xlink:href=\"#ArialMT-50\"/>\r\n       <use x=\"55.615234\" xlink:href=\"#ArialMT-47\"/>\r\n       <use x=\"83.398438\" xlink:href=\"#ArialMT-49\"/>\r\n       <use x=\"139.013672\" xlink:href=\"#ArialMT-53\"/>\r\n       <use x=\"194.628906\" xlink:href=\"#ArialMT-47\"/>\r\n       <use x=\"222.412109\" xlink:href=\"#ArialMT-50\"/>\r\n       <use x=\"278.027344\" xlink:href=\"#ArialMT-49\"/>\r\n      </g>\r\n     </g>\r\n    </g>\r\n    <g id=\"xtick_7\">\r\n     <g id=\"line2d_13\">\r\n      <path clip-path=\"url(#p5d5efa1534)\" d=\"M 418.920553 316.337812 \r\nL 418.920553 17.357812 \r\n\" style=\"fill:none;stroke:#ffffff;stroke-linecap:round;\"/>\r\n     </g>\r\n     <g id=\"line2d_14\"/>\r\n     <g id=\"text_7\">\r\n      <!-- 2/25/21 -->\r\n      <g style=\"fill:#262626;\" transform=\"translate(402.240085 330.495625)scale(0.1 -0.1)\">\r\n       <use xlink:href=\"#ArialMT-50\"/>\r\n       <use x=\"55.615234\" xlink:href=\"#ArialMT-47\"/>\r\n       <use x=\"83.398438\" xlink:href=\"#ArialMT-50\"/>\r\n       <use x=\"139.013672\" xlink:href=\"#ArialMT-53\"/>\r\n       <use x=\"194.628906\" xlink:href=\"#ArialMT-47\"/>\r\n       <use x=\"222.412109\" xlink:href=\"#ArialMT-50\"/>\r\n       <use x=\"278.027344\" xlink:href=\"#ArialMT-49\"/>\r\n      </g>\r\n     </g>\r\n    </g>\r\n   </g>\r\n   <g id=\"matplotlib.axis_2\">\r\n    <g id=\"ytick_1\">\r\n     <g id=\"line2d_15\">\r\n      <path clip-path=\"url(#p5d5efa1534)\" d=\"M 28.1 303.049921 \r\nL 474.5 303.049921 \r\n\" style=\"fill:none;stroke:#ffffff;stroke-linecap:round;\"/>\r\n     </g>\r\n     <g id=\"line2d_16\"/>\r\n     <g id=\"text_8\">\r\n      <!-- 0.0 -->\r\n      <defs>\r\n       <path d=\"M 9.078125 0 \r\nL 9.078125 10.015625 \r\nL 19.09375 10.015625 \r\nL 19.09375 0 \r\nz\r\n\" id=\"ArialMT-46\"/>\r\n      </defs>\r\n      <g style=\"fill:#262626;\" transform=\"translate(7.2 306.628827)scale(0.1 -0.1)\">\r\n       <use xlink:href=\"#ArialMT-48\"/>\r\n       <use x=\"55.615234\" xlink:href=\"#ArialMT-46\"/>\r\n       <use x=\"83.398438\" xlink:href=\"#ArialMT-48\"/>\r\n      </g>\r\n     </g>\r\n    </g>\r\n    <g id=\"ytick_2\">\r\n     <g id=\"line2d_17\">\r\n      <path clip-path=\"url(#p5d5efa1534)\" d=\"M 28.1 251.389803 \r\nL 474.5 251.389803 \r\n\" style=\"fill:none;stroke:#ffffff;stroke-linecap:round;\"/>\r\n     </g>\r\n     <g id=\"line2d_18\"/>\r\n     <g id=\"text_9\">\r\n      <!-- 0.5 -->\r\n      <g style=\"fill:#262626;\" transform=\"translate(7.2 254.968709)scale(0.1 -0.1)\">\r\n       <use xlink:href=\"#ArialMT-48\"/>\r\n       <use x=\"55.615234\" xlink:href=\"#ArialMT-46\"/>\r\n       <use x=\"83.398438\" xlink:href=\"#ArialMT-53\"/>\r\n      </g>\r\n     </g>\r\n    </g>\r\n    <g id=\"ytick_3\">\r\n     <g id=\"line2d_19\">\r\n      <path clip-path=\"url(#p5d5efa1534)\" d=\"M 28.1 199.729684 \r\nL 474.5 199.729684 \r\n\" style=\"fill:none;stroke:#ffffff;stroke-linecap:round;\"/>\r\n     </g>\r\n     <g id=\"line2d_20\"/>\r\n     <g id=\"text_10\">\r\n      <!-- 1.0 -->\r\n      <g style=\"fill:#262626;\" transform=\"translate(7.2 203.308591)scale(0.1 -0.1)\">\r\n       <use xlink:href=\"#ArialMT-49\"/>\r\n       <use x=\"55.615234\" xlink:href=\"#ArialMT-46\"/>\r\n       <use x=\"83.398438\" xlink:href=\"#ArialMT-48\"/>\r\n      </g>\r\n     </g>\r\n    </g>\r\n    <g id=\"ytick_4\">\r\n     <g id=\"line2d_21\">\r\n      <path clip-path=\"url(#p5d5efa1534)\" d=\"M 28.1 148.069566 \r\nL 474.5 148.069566 \r\n\" style=\"fill:none;stroke:#ffffff;stroke-linecap:round;\"/>\r\n     </g>\r\n     <g id=\"line2d_22\"/>\r\n     <g id=\"text_11\">\r\n      <!-- 1.5 -->\r\n      <g style=\"fill:#262626;\" transform=\"translate(7.2 151.648472)scale(0.1 -0.1)\">\r\n       <use xlink:href=\"#ArialMT-49\"/>\r\n       <use x=\"55.615234\" xlink:href=\"#ArialMT-46\"/>\r\n       <use x=\"83.398438\" xlink:href=\"#ArialMT-53\"/>\r\n      </g>\r\n     </g>\r\n    </g>\r\n    <g id=\"ytick_5\">\r\n     <g id=\"line2d_23\">\r\n      <path clip-path=\"url(#p5d5efa1534)\" d=\"M 28.1 96.409448 \r\nL 474.5 96.409448 \r\n\" style=\"fill:none;stroke:#ffffff;stroke-linecap:round;\"/>\r\n     </g>\r\n     <g id=\"line2d_24\"/>\r\n     <g id=\"text_12\">\r\n      <!-- 2.0 -->\r\n      <g style=\"fill:#262626;\" transform=\"translate(7.2 99.988354)scale(0.1 -0.1)\">\r\n       <use xlink:href=\"#ArialMT-50\"/>\r\n       <use x=\"55.615234\" xlink:href=\"#ArialMT-46\"/>\r\n       <use x=\"83.398438\" xlink:href=\"#ArialMT-48\"/>\r\n      </g>\r\n     </g>\r\n    </g>\r\n    <g id=\"ytick_6\">\r\n     <g id=\"line2d_25\">\r\n      <path clip-path=\"url(#p5d5efa1534)\" d=\"M 28.1 44.74933 \r\nL 474.5 44.74933 \r\n\" style=\"fill:none;stroke:#ffffff;stroke-linecap:round;\"/>\r\n     </g>\r\n     <g id=\"line2d_26\"/>\r\n     <g id=\"text_13\">\r\n      <!-- 2.5 -->\r\n      <g style=\"fill:#262626;\" transform=\"translate(7.2 48.328236)scale(0.1 -0.1)\">\r\n       <use xlink:href=\"#ArialMT-50\"/>\r\n       <use x=\"55.615234\" xlink:href=\"#ArialMT-46\"/>\r\n       <use x=\"83.398438\" xlink:href=\"#ArialMT-53\"/>\r\n      </g>\r\n     </g>\r\n    </g>\r\n    <g id=\"text_14\">\r\n     <!-- 1e6 -->\r\n     <defs>\r\n      <path d=\"M 42.09375 16.703125 \r\nL 51.171875 15.578125 \r\nQ 49.03125 7.625 43.21875 3.21875 \r\nQ 37.40625 -1.171875 28.375 -1.171875 \r\nQ 17 -1.171875 10.328125 5.828125 \r\nQ 3.65625 12.84375 3.65625 25.484375 \r\nQ 3.65625 38.578125 10.390625 45.796875 \r\nQ 17.140625 53.03125 27.875 53.03125 \r\nQ 38.28125 53.03125 44.875 45.953125 \r\nQ 51.46875 38.875 51.46875 26.03125 \r\nQ 51.46875 25.25 51.421875 23.6875 \r\nL 12.75 23.6875 \r\nQ 13.234375 15.140625 17.578125 10.59375 \r\nQ 21.921875 6.0625 28.421875 6.0625 \r\nQ 33.25 6.0625 36.671875 8.59375 \r\nQ 40.09375 11.140625 42.09375 16.703125 \r\nz\r\nM 13.234375 30.90625 \r\nL 42.1875 30.90625 \r\nQ 41.609375 37.453125 38.875 40.71875 \r\nQ 34.671875 45.796875 27.984375 45.796875 \r\nQ 21.921875 45.796875 17.796875 41.75 \r\nQ 13.671875 37.703125 13.234375 30.90625 \r\nz\r\n\" id=\"ArialMT-101\"/>\r\n     </defs>\r\n     <g style=\"fill:#262626;\" transform=\"translate(28.1 14.357812)scale(0.1 -0.1)\">\r\n      <use xlink:href=\"#ArialMT-49\"/>\r\n      <use x=\"55.615234\" xlink:href=\"#ArialMT-101\"/>\r\n      <use x=\"111.230469\" xlink:href=\"#ArialMT-54\"/>\r\n     </g>\r\n    </g>\r\n   </g>\r\n   <g id=\"line2d_27\">\r\n    <path clip-path=\"url(#p5d5efa1534)\" d=\"M 48.390909 302.747812 \r\nL 60.153755 302.747812 \r\nL 66.035178 302.344864 \r\nL 71.916601 302.060216 \r\nL 77.798024 301.1355 \r\nL 83.679447 300.467122 \r\nL 107.205138 300.467122 \r\nL 113.086561 298.507963 \r\nL 124.849407 297.554834 \r\nL 130.73083 297.015812 \r\nL 136.612253 296.079111 \r\nL 148.375099 294.649986 \r\nL 160.137945 293.453641 \r\nL 166.019368 283.153853 \r\nL 171.900791 268.955999 \r\nL 177.782213 259.926637 \r\nL 183.663636 255.187235 \r\nL 189.545059 254.268098 \r\nL 195.426482 252.161708 \r\nL 201.307905 251.583838 \r\nL 207.189328 251.283383 \r\nL 213.070751 245.982538 \r\nL 218.952174 239.527813 \r\nL 224.833597 239.118665 \r\nL 230.71502 237.996814 \r\nL 236.596443 236.39752 \r\nL 242.477866 235.652168 \r\nL 248.359289 235.2673 \r\nL 254.240711 235.08153 \r\nL 260.122134 234.629504 \r\nL 266.003557 233.793643 \r\nL 271.88498 233.481616 \r\nL 283.647826 233.046431 \r\nL 295.410672 231.233264 \r\nL 301.292095 230.693106 \r\nL 307.173518 229.672096 \r\nL 318.936364 228.884589 \r\nL 324.817787 228.210218 \r\nL 354.224901 228.00709 \r\nL 360.106324 225.592599 \r\nL 365.987747 208.472333 \r\nL 371.86917 193.722749 \r\nL 383.632016 140.407544 \r\nL 389.513439 131.9202 \r\nL 395.394862 128.525717 \r\nL 401.276285 123.95421 \r\nL 407.157708 116.954057 \r\nL 413.03913 106.660469 \r\nL 418.920553 87.233268 \r\nL 424.801976 68.406358 \r\nL 430.683399 56.795333 \r\nL 442.446245 41.973838 \r\nL 448.327668 36.128806 \r\nL 454.209091 30.947812 \r\nL 454.209091 30.947812 \r\n\" style=\"fill:none;stroke:#4c72b0;stroke-linecap:round;stroke-width:1.75;\"/>\r\n   </g>\r\n   <g id=\"patch_3\">\r\n    <path d=\"M 28.1 316.337812 \r\nL 28.1 17.357812 \r\n\" style=\"fill:none;\"/>\r\n   </g>\r\n   <g id=\"patch_4\">\r\n    <path d=\"M 474.5 316.337812 \r\nL 474.5 17.357812 \r\n\" style=\"fill:none;\"/>\r\n   </g>\r\n   <g id=\"patch_5\">\r\n    <path d=\"M 28.1 316.337812 \r\nL 474.5 316.337812 \r\n\" style=\"fill:none;\"/>\r\n   </g>\r\n   <g id=\"patch_6\">\r\n    <path d=\"M 28.1 17.357812 \r\nL 474.5 17.357812 \r\n\" style=\"fill:none;\"/>\r\n   </g>\r\n  </g>\r\n </g>\r\n <defs>\r\n  <clipPath id=\"p5d5efa1534\">\r\n   <rect height=\"298.98\" width=\"446.4\" x=\"28.1\" y=\"17.357812\"/>\r\n  </clipPath>\r\n </defs>\r\n</svg>\r\n",
      "image/png": "[encoded data removed]"
     },
     "metadata": {}
    }
   ],
   "source": [
    "sources['vaccines'] = 'https://raw.githubusercontent.com/owid/covid-19-data/master/public/data/vaccinations/vaccinations.csv'\n",
    "df = pd.read_csv(sources['vaccines'])\n",
    "replace = {'United States': 'US'}\n",
    "df['location'].replace(replace, inplace=True)\n",
    "df['date'] = df['date'].apply(lambda date: datetime.strptime(date, '%Y-%m-%d').strftime('%#m/%#d/%y')) \n",
    "vaccines_df = pd.DataFrame(index=time_series['confirmed'].index, columns=time_series['confirmed'].columns)\n",
    "\n",
    "for country in iso_df.index:\n",
    "    try:\n",
    "        tmp_df = df[df['location'] == country]\n",
    "        tmp_df.set_index('date', inplace=True)\n",
    "        vaccines_df.loc[country] = tmp_df['total_vaccinations']\n",
    "    except: continue\n",
    "\n",
    "vaccines_df = vaccines_df.iloc[:,:-1]\n",
    "# vaccines_df.fillna(method='ffill', inplace=True, axis=1)\n",
    "# vaccines_df.ffill(axis=1, inplace=True)\n",
    "\n",
    "def ffill(df):\n",
    "    m, n = df.shape \n",
    "    for i in range(m):\n",
    "        s = df.iloc[i, :]\n",
    "        for j in range(1, n):\n",
    "            if pd.isnull(s[j]): \n",
    "                s[j] = s[j-1] \n",
    "    return \n",
    "\n",
    "ffill(vaccines_df)\n",
    "vaccines_df.fillna(value=0, inplace=True)\n",
    "time_series['vaccines'] = vaccines_df"
   ]
  },
  {
   "cell_type": "code",
   "execution_count": 9,
   "metadata": {},
   "outputs": [],
   "source": [
    "for metric in metrics: \n",
    "    time_series[metric].loc['World'] = time_series[metric].sum()\n",
    "\n",
    "metrics.append(\"vaccines\")\n",
    "for metric in metrics:\n",
    "    time_series[f'daily_{metric}'] = time_series[metric].diff(axis=1)\n",
    "    time_series[f'7MA_daily_{metric}'] = time_series[f'daily_{metric}'].rolling(window=7, axis=1).mean()"
   ]
  },
  {
   "cell_type": "code",
   "execution_count": 10,
   "metadata": {},
   "outputs": [],
   "source": [
    "general_df = pd.DataFrame(index=time_series['confirmed'].index)\n",
    "\n",
    "for metric in metrics:\n",
    "    general_df[metric] = time_series[metric].iloc[:,-1]\n",
    "    general_df[f'daily_{metric}'] = time_series[f'daily_{metric}'].iloc[:,-1]\n",
    "\n",
    "# general_df.fillna(value=0, inplace=True)\n",
    "general_df = general_df.astype(int)\n",
    "general_df.sort_values('confirmed', ascending=False, inplace=True) \n",
    "general_df = general_df.applymap(lambda x: '{:,}'.format(x))"
   ]
  },
  {
   "cell_type": "code",
   "execution_count": 11,
   "metadata": {},
   "outputs": [],
   "source": [
    "general_df['country'] = general_df.index\n",
    "general_df['iso'] = iso_df['alpha-2']\n",
    "general_df['region'] = iso_df['region']\n",
    "general_df['last_update'] = str(datetime.utcnow())[:-7]"
   ]
  },
  {
   "cell_type": "code",
   "execution_count": 12,
   "metadata": {},
   "outputs": [
    {
     "output_type": "execute_result",
     "data": {
      "text/plain": [
       "                    1/22/20  1/23/20  1/24/20  1/25/20  1/26/20  1/27/20  \\\n",
       "Country/Region                                                             \n",
       "Afghanistan               0        0        0        0        0        0   \n",
       "Albania                   0        0        0        0        0        0   \n",
       "Algeria                   0        0        0        0        0        0   \n",
       "Andorra                   0        0        0        0        0        0   \n",
       "Angola                    0        0        0        0        0        0   \n",
       "...                     ...      ...      ...      ...      ...      ...   \n",
       "West Bank and Gaza        0        0        0        0        0        0   \n",
       "Yemen                     0        0        0        0        0        0   \n",
       "Zambia                    0        0        0        0        0        0   \n",
       "Zimbabwe                  0        0        0        0        0        0   \n",
       "World                   557      655      941     1433     2118     2927   \n",
       "\n",
       "                    1/28/20  1/29/20  1/30/20  1/31/20  ...    2/23/21  \\\n",
       "Country/Region                                          ...              \n",
       "Afghanistan               0        0        0        0  ...      55646   \n",
       "Albania                   0        0        0        0  ...     102306   \n",
       "Algeria                   0        0        0        0  ...     112279   \n",
       "Andorra                   0        0        0        0  ...      10739   \n",
       "Angola                    0        0        0        0  ...      20584   \n",
       "...                     ...      ...      ...      ...  ...        ...   \n",
       "West Bank and Gaza        0        0        0        0  ...     176377   \n",
       "Yemen                     0        0        0        0  ...       2187   \n",
       "Zambia                    0        0        0        0  ...      75582   \n",
       "Zimbabwe                  0        0        0        0  ...      35910   \n",
       "World                  5578     6167     8235     9927  ...  112082814   \n",
       "\n",
       "                      2/24/21    2/25/21    2/26/21    2/27/21    2/28/21  \\\n",
       "Country/Region                                                              \n",
       "Afghanistan             55664      55680      55696      55707      55714   \n",
       "Albania                103327     104313     105229     106215     107167   \n",
       "Algeria                112461     112622     112805     112960     113092   \n",
       "Andorra                 10775      10799      10822      10849      10866   \n",
       "Angola                  20640      20695      20759      20782      20807   \n",
       "...                       ...        ...        ...        ...        ...   \n",
       "West Bank and Gaza     177768     179293     180848     181909     183612   \n",
       "Yemen                    2221       2255       2267       2269       2285   \n",
       "Zambia                  76484      77171      77639      78202      78534   \n",
       "Zimbabwe                35960      35994      36044      36058      36089   \n",
       "World               112527289  112974516  113417384  113806038  114109234   \n",
       "\n",
       "                       3/1/21     3/2/21     3/3/21     3/4/21  \n",
       "Country/Region                                                  \n",
       "Afghanistan             55733      55759      55770      55775  \n",
       "Albania                107931     108823     109674     110521  \n",
       "Algeria                113255     113430     113593     113761  \n",
       "Andorra                 10889      10908      10948      10976  \n",
       "Angola                  20854      20882      20923      20981  \n",
       "...                       ...        ...        ...        ...  \n",
       "West Bank and Gaza     185336     187309     189326     191203  \n",
       "Yemen                    2310       2342       2363       2375  \n",
       "Zambia                  79002      79557      80090      80687  \n",
       "Zimbabwe                36115      36148      36179      36223  \n",
       "World               114415478  114725935  115165644  115617955  \n",
       "\n",
       "[193 rows x 408 columns]"
      ],
      "text/html": "<div>\n<style scoped>\n    .dataframe tbody tr th:only-of-type {\n        vertical-align: middle;\n    }\n\n    .dataframe tbody tr th {\n        vertical-align: top;\n    }\n\n    .dataframe thead th {\n        text-align: right;\n    }\n</style>\n<table border=\"1\" class=\"dataframe\">\n  <thead>\n    <tr style=\"text-align: right;\">\n      <th></th>\n      <th>1/22/20</th>\n      <th>1/23/20</th>\n      <th>1/24/20</th>\n      <th>1/25/20</th>\n      <th>1/26/20</th>\n      <th>1/27/20</th>\n      <th>1/28/20</th>\n      <th>1/29/20</th>\n      <th>1/30/20</th>\n      <th>1/31/20</th>\n      <th>...</th>\n      <th>2/23/21</th>\n      <th>2/24/21</th>\n      <th>2/25/21</th>\n      <th>2/26/21</th>\n      <th>2/27/21</th>\n      <th>2/28/21</th>\n      <th>3/1/21</th>\n      <th>3/2/21</th>\n      <th>3/3/21</th>\n      <th>3/4/21</th>\n    </tr>\n    <tr>\n      <th>Country/Region</th>\n      <th></th>\n      <th></th>\n      <th></th>\n      <th></th>\n      <th></th>\n      <th></th>\n      <th></th>\n      <th></th>\n      <th></th>\n      <th></th>\n      <th></th>\n      <th></th>\n      <th></th>\n      <th></th>\n      <th></th>\n      <th></th>\n      <th></th>\n      <th></th>\n      <th></th>\n      <th></th>\n      <th></th>\n    </tr>\n  </thead>\n  <tbody>\n    <tr>\n      <th>Afghanistan</th>\n      <td>0</td>\n      <td>0</td>\n      <td>0</td>\n      <td>0</td>\n      <td>0</td>\n      <td>0</td>\n      <td>0</td>\n      <td>0</td>\n      <td>0</td>\n      <td>0</td>\n      <td>...</td>\n      <td>55646</td>\n      <td>55664</td>\n      <td>55680</td>\n      <td>55696</td>\n      <td>55707</td>\n      <td>55714</td>\n      <td>55733</td>\n      <td>55759</td>\n      <td>55770</td>\n      <td>55775</td>\n    </tr>\n    <tr>\n      <th>Albania</th>\n      <td>0</td>\n      <td>0</td>\n      <td>0</td>\n      <td>0</td>\n      <td>0</td>\n      <td>0</td>\n      <td>0</td>\n      <td>0</td>\n      <td>0</td>\n      <td>0</td>\n      <td>...</td>\n      <td>102306</td>\n      <td>103327</td>\n      <td>104313</td>\n      <td>105229</td>\n      <td>106215</td>\n      <td>107167</td>\n      <td>107931</td>\n      <td>108823</td>\n      <td>109674</td>\n      <td>110521</td>\n    </tr>\n    <tr>\n      <th>Algeria</th>\n      <td>0</td>\n      <td>0</td>\n      <td>0</td>\n      <td>0</td>\n      <td>0</td>\n      <td>0</td>\n      <td>0</td>\n      <td>0</td>\n      <td>0</td>\n      <td>0</td>\n      <td>...</td>\n      <td>112279</td>\n      <td>112461</td>\n      <td>112622</td>\n      <td>112805</td>\n      <td>112960</td>\n      <td>113092</td>\n      <td>113255</td>\n      <td>113430</td>\n      <td>113593</td>\n      <td>113761</td>\n    </tr>\n    <tr>\n      <th>Andorra</th>\n      <td>0</td>\n      <td>0</td>\n      <td>0</td>\n      <td>0</td>\n      <td>0</td>\n      <td>0</td>\n      <td>0</td>\n      <td>0</td>\n      <td>0</td>\n      <td>0</td>\n      <td>...</td>\n      <td>10739</td>\n      <td>10775</td>\n      <td>10799</td>\n      <td>10822</td>\n      <td>10849</td>\n      <td>10866</td>\n      <td>10889</td>\n      <td>10908</td>\n      <td>10948</td>\n      <td>10976</td>\n    </tr>\n    <tr>\n      <th>Angola</th>\n      <td>0</td>\n      <td>0</td>\n      <td>0</td>\n      <td>0</td>\n      <td>0</td>\n      <td>0</td>\n      <td>0</td>\n      <td>0</td>\n      <td>0</td>\n      <td>0</td>\n      <td>...</td>\n      <td>20584</td>\n      <td>20640</td>\n      <td>20695</td>\n      <td>20759</td>\n      <td>20782</td>\n      <td>20807</td>\n      <td>20854</td>\n      <td>20882</td>\n      <td>20923</td>\n      <td>20981</td>\n    </tr>\n    <tr>\n      <th>...</th>\n      <td>...</td>\n      <td>...</td>\n      <td>...</td>\n      <td>...</td>\n      <td>...</td>\n      <td>...</td>\n      <td>...</td>\n      <td>...</td>\n      <td>...</td>\n      <td>...</td>\n      <td>...</td>\n      <td>...</td>\n      <td>...</td>\n      <td>...</td>\n      <td>...</td>\n      <td>...</td>\n      <td>...</td>\n      <td>...</td>\n      <td>...</td>\n      <td>...</td>\n      <td>...</td>\n    </tr>\n    <tr>\n      <th>West Bank and Gaza</th>\n      <td>0</td>\n      <td>0</td>\n      <td>0</td>\n      <td>0</td>\n      <td>0</td>\n      <td>0</td>\n      <td>0</td>\n      <td>0</td>\n      <td>0</td>\n      <td>0</td>\n      <td>...</td>\n      <td>176377</td>\n      <td>177768</td>\n      <td>179293</td>\n      <td>180848</td>\n      <td>181909</td>\n      <td>183612</td>\n      <td>185336</td>\n      <td>187309</td>\n      <td>189326</td>\n      <td>191203</td>\n    </tr>\n    <tr>\n      <th>Yemen</th>\n      <td>0</td>\n      <td>0</td>\n      <td>0</td>\n      <td>0</td>\n      <td>0</td>\n      <td>0</td>\n      <td>0</td>\n      <td>0</td>\n      <td>0</td>\n      <td>0</td>\n      <td>...</td>\n      <td>2187</td>\n      <td>2221</td>\n      <td>2255</td>\n      <td>2267</td>\n      <td>2269</td>\n      <td>2285</td>\n      <td>2310</td>\n      <td>2342</td>\n      <td>2363</td>\n      <td>2375</td>\n    </tr>\n    <tr>\n      <th>Zambia</th>\n      <td>0</td>\n      <td>0</td>\n      <td>0</td>\n      <td>0</td>\n      <td>0</td>\n      <td>0</td>\n      <td>0</td>\n      <td>0</td>\n      <td>0</td>\n      <td>0</td>\n      <td>...</td>\n      <td>75582</td>\n      <td>76484</td>\n      <td>77171</td>\n      <td>77639</td>\n      <td>78202</td>\n      <td>78534</td>\n      <td>79002</td>\n      <td>79557</td>\n      <td>80090</td>\n      <td>80687</td>\n    </tr>\n    <tr>\n      <th>Zimbabwe</th>\n      <td>0</td>\n      <td>0</td>\n      <td>0</td>\n      <td>0</td>\n      <td>0</td>\n      <td>0</td>\n      <td>0</td>\n      <td>0</td>\n      <td>0</td>\n      <td>0</td>\n      <td>...</td>\n      <td>35910</td>\n      <td>35960</td>\n      <td>35994</td>\n      <td>36044</td>\n      <td>36058</td>\n      <td>36089</td>\n      <td>36115</td>\n      <td>36148</td>\n      <td>36179</td>\n      <td>36223</td>\n    </tr>\n    <tr>\n      <th>World</th>\n      <td>557</td>\n      <td>655</td>\n      <td>941</td>\n      <td>1433</td>\n      <td>2118</td>\n      <td>2927</td>\n      <td>5578</td>\n      <td>6167</td>\n      <td>8235</td>\n      <td>9927</td>\n      <td>...</td>\n      <td>112082814</td>\n      <td>112527289</td>\n      <td>112974516</td>\n      <td>113417384</td>\n      <td>113806038</td>\n      <td>114109234</td>\n      <td>114415478</td>\n      <td>114725935</td>\n      <td>115165644</td>\n      <td>115617955</td>\n    </tr>\n  </tbody>\n</table>\n<p>193 rows × 408 columns</p>\n</div>"
     },
     "metadata": {},
     "execution_count": 12
    }
   ],
   "source": [
    "time_series['confirmed']"
   ]
  },
  {
   "cell_type": "code",
   "execution_count": 13,
   "metadata": {},
   "outputs": [],
   "source": [
    "no_match = general_df[general_df['iso'].isnull()].index\n",
    "for metric in time_series:\n",
    "    time_series[metric].drop(index=no_match, inplace=True)\n",
    "general_df.drop(index=no_match, inplace=True)"
   ]
  },
  {
   "cell_type": "code",
   "execution_count": 14,
   "metadata": {},
   "outputs": [],
   "source": [
    "class countryData:\n",
    "    def __init__(self, country):\n",
    "        self.general = general_df.loc[country]\n",
    "        self.time_series = {metric: time_series[metric].loc[country] for metric in time_series}\n",
    "        self.preProcessing()\n",
    "    \n",
    "    def preProcessing(self):\n",
    "        def getStart(metric, atleast=1):\n",
    "            s = self.time_series[metric]\n",
    "            tmp_s = s[s > atleast]\n",
    "            if len(tmp_s): start = tmp_s.index[0]\n",
    "            else: start = s.index[0]\n",
    "            if metric == '7MA_daily_confirmed' and start < '1/29/20': start = '1/29/20' \n",
    "            return start\n",
    "        \n",
    "        # start = getStart(metric='7MA_daily_confirmed', atleast=1000)\n",
    "        start = getStart(metric='7MA_daily_confirmed', atleast=100)\n",
    "        self.time_series = {metric: self.time_series[metric][start:] for metric in self.time_series}\n",
    "\n",
    "        start_vaccines = getStart(metric='7MA_daily_vaccines', atleast=1000)\n",
    "        self.time_series['vaccines'] = self.time_series['vaccines'][start_vaccines:]\n",
    "        self.time_series['daily_vaccines'] = self.time_series['daily_vaccines'][start_vaccines:]\n",
    "        self.time_series['7MA_daily_vaccines'] = self.time_series['7MA_daily_vaccines'][start_vaccines:]\n",
    "        # self.time_series['starts'] = start_vaccines\n",
    "        self.time_series['starts'] = {'confirmed':toUnixTime(start, format=\"%m/%d/%y\"),'vaccines': toUnixTime(start_vaccines, format=\"%m/%d/%y\")} \n",
    "\n",
    "    def to_dict(self):\n",
    "        res = {\n",
    "            'general': self.general.to_dict(),\n",
    "            'time_series': {metric: self.time_series[metric].to_list() for metric in self.time_series if metric != 'starts'}\n",
    "        }\n",
    "        res['time_series']['starts'] = self.time_series['starts']\n",
    "        return res"
   ]
  },
  {
   "cell_type": "code",
   "execution_count": 17,
   "metadata": {},
   "outputs": [
    {
     "output_type": "execute_result",
     "data": {
      "text/plain": [
       "12/20/20      556208.0\n",
       "12/21/20      614117.0\n",
       "12/22/20      614117.0\n",
       "12/23/20     1008025.0\n",
       "12/24/20     1008025.0\n",
       "               ...    \n",
       "2/27/21     72806180.0\n",
       "2/28/21     75236003.0\n",
       "3/1/21      76899987.0\n",
       "3/2/21      78631601.0\n",
       "3/3/21      80540474.0\n",
       "Name: US, Length: 74, dtype: float64"
      ]
     },
     "metadata": {},
     "execution_count": 17
    }
   ],
   "source": [
    "country_data = countryData('US')\n",
    "country_data.time_series['vaccines']"
   ]
  },
  {
   "cell_type": "code",
   "execution_count": 16,
   "metadata": {},
   "outputs": [],
   "source": [
    "def genCountryData(country):\n",
    "    data = countryData(country)\n",
    "    return data.to_dict()"
   ]
  },
  {
   "cell_type": "code",
   "execution_count": 17,
   "metadata": {},
   "outputs": [],
   "source": [
    "def manualUpdate():\n",
    "    general_df.to_json('./data/general.json', orient='records')\n",
    "    for country in general_df.index:\n",
    "        country_iso = general_df.loc[country]['iso']\n",
    "        res = genCountryData(country)\n",
    "        with open('./data/time_series/'+country_iso+'.json', 'w') as doc: json.dump(res, doc)"
   ]
  },
  {
   "cell_type": "code",
   "execution_count": 18,
   "metadata": {},
   "outputs": [],
   "source": [
    "def updateData(access_token):\n",
    "    g = Github(access_token)\n",
    "    repo = g.get_user().get_repo(\"CoronaTrack\")\n",
    "    \n",
    "    res = general.to_json(orient='records')\n",
    "    contents = repo.get_contents(f\"data/general.json\")\n",
    "    repo.update_file(contents.path, \"automatic update\", res, contents.sha)\n",
    "    \n",
    "    for country in general_df.index:\n",
    "        country_iso = general_df.loc[country]['iso']\n",
    "        country_data = genCountryData(country)\n",
    "        res = json.dumps(country_data)\n",
    "    \n",
    "        contents = repo.get_contents(f\"data/time_series/{country_iso}.json\")\n",
    "        repo.update_file(contents.path, \"automatic update\", res, contents.sha)\n"
   ]
  },
  {
   "cell_type": "code",
   "execution_count": 19,
   "metadata": {},
   "outputs": [],
   "source": [
    "manualUpdate()"
   ]
  },
  {
   "cell_type": "code",
   "execution_count": null,
   "metadata": {},
   "outputs": [],
   "source": []
  }
 ]
}